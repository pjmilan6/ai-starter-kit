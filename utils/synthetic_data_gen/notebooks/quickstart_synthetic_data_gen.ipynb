{
 "cells": [
  {
   "cell_type": "markdown",
   "metadata": {
    "vscode": {
     "languageId": "plaintext"
    }
   },
   "source": [
    "# Synthetic Data Generation\n",
    "\n",
    "This guide provides a quickstart for creating a synthetic QA and Retrieval-Augmented Generation (RAG) dataset using your own PDF document."
   ]
  },
  {
   "cell_type": "markdown",
   "metadata": {},
   "source": [
    "## Setup with SambaNova Cloud\n",
    "\n",
    "We recommend using Python 3.11. Make sure all required packages are installed. For more information, please refer to requirements.txt and README.txt."
   ]
  },
  {
   "cell_type": "markdown",
   "metadata": {},
   "source": [
    "To use [SambaNova Cloud](https://cloud.sambanova.ai) models, you'll need to set your API key. Run the following code to securely input your [SambaNova Cloud API Key](https://cloud.sambanova.ai/apis)."
   ]
  },
  {
   "cell_type": "code",
   "execution_count": 1,
   "metadata": {},
   "outputs": [],
   "source": [
    "import getpass\n",
    "import os\n",
    "if not os.getenv(\"SAMBANOVA_API_KEY\"):\n",
    "    os.environ[\"SAMBANOVA_API_KEY\"] = getpass.getpass(\n",
    "        \"Enter your SambaNova Cloud API key: \"\n",
    "    )"
   ]
  },
  {
   "cell_type": "markdown",
   "metadata": {},
   "source": [
    "Set the LLM to generate the QA pairs."
   ]
  },
  {
   "cell_type": "code",
   "execution_count": 2,
   "metadata": {},
   "outputs": [],
   "source": [
    "from langchain_sambanova import ChatSambaNovaCloud\n",
    "\n",
    "# Initialize the LLM and specify the model\n",
    "llm = ChatSambaNovaCloud(\n",
    "    model=\"Meta-Llama-3.1-8B-Instruct\",\n",
    "    temperature=0.01,\n",
    "    max_tokens=2048\n",
    ")"
   ]
  },
  {
   "cell_type": "markdown",
   "metadata": {},
   "source": [
    "##  Load data"
   ]
  },
  {
   "cell_type": "markdown",
   "metadata": {},
   "source": [
    "First, specify the location of the PDF file to process and extracts elements from."
   ]
  },
  {
   "cell_type": "code",
   "execution_count": 3,
   "metadata": {},
   "outputs": [],
   "source": [
    "# Specify location of the PDF file\n",
    "filename = \"./data/saudi-aramco-q3-2024-interim-report-english_8pages.pdf\""
   ]
  },
  {
   "cell_type": "markdown",
   "metadata": {},
   "source": [
    "Then, we will load the data from your source files using the [Unstructured](https://docs.unstructured.io/open-source/introduction/quick-start) library."
   ]
  },
  {
   "cell_type": "code",
   "execution_count": 4,
   "metadata": {},
   "outputs": [
    {
     "name": "stderr",
     "output_type": "stream",
     "text": [
      "/Users/petrojm/Documents/projects/Aramco/testing/SyntheticQA/data_gen_env/lib/python3.11/site-packages/tqdm/auto.py:21: TqdmWarning: IProgress not found. Please update jupyter and ipywidgets. See https://ipywidgets.readthedocs.io/en/stable/user_install.html\n",
      "  from .autonotebook import tqdm as notebook_tqdm\n"
     ]
    }
   ],
   "source": [
    "from unstructured.partition.pdf import partition_pdf\n",
    "\n",
    "def extract_pdf(file_path):\n",
    "    \"\"\"Extract text and tables from PDF file\n",
    "\n",
    "    Args:\n",
    "        file_path (str): Path to the PDF file to be processed.\n",
    "    \n",
    "    Returns:\n",
    "        List[Element]: A list of document elements (text, tables, etc.) extracted from the PDF.\n",
    "    \"\"\"\n",
    "    raw_pdf_elements = partition_pdf(\n",
    "        filename=file_path,\n",
    "        extract_images_in_pdf=False, # Keep False\n",
    "        strategy='hi_res',\n",
    "        hi_res_model_name='yolox',\n",
    "        infer_table_structure=True, # Set to True to enable table detection; otherwise, set to False.\n",
    "        chunking_strategy='by_title',\n",
    "        max_characters=4096,\n",
    "        combine_text_under_n_chars=500)\n",
    "\n",
    "    return raw_pdf_elements"
   ]
  },
  {
   "cell_type": "markdown",
   "metadata": {},
   "source": [
    "Next, we will store the extracted elements into a list."
   ]
  },
  {
   "cell_type": "code",
   "execution_count": 5,
   "metadata": {},
   "outputs": [
    {
     "name": "stderr",
     "output_type": "stream",
     "text": [
      "CropBox missing from /Page, defaulting to MediaBox\n",
      "CropBox missing from /Page, defaulting to MediaBox\n",
      "CropBox missing from /Page, defaulting to MediaBox\n",
      "CropBox missing from /Page, defaulting to MediaBox\n",
      "CropBox missing from /Page, defaulting to MediaBox\n",
      "CropBox missing from /Page, defaulting to MediaBox\n",
      "CropBox missing from /Page, defaulting to MediaBox\n",
      "CropBox missing from /Page, defaulting to MediaBox\n",
      "CropBox missing from /Page, defaulting to MediaBox\n",
      "CropBox missing from /Page, defaulting to MediaBox\n",
      "CropBox missing from /Page, defaulting to MediaBox\n",
      "CropBox missing from /Page, defaulting to MediaBox\n",
      "CropBox missing from /Page, defaulting to MediaBox\n",
      "CropBox missing from /Page, defaulting to MediaBox\n",
      "CropBox missing from /Page, defaulting to MediaBox\n",
      "CropBox missing from /Page, defaulting to MediaBox\n"
     ]
    },
    {
     "ename": "KeyboardInterrupt",
     "evalue": "",
     "output_type": "error",
     "traceback": [
      "\u001b[31m---------------------------------------------------------------------------\u001b[39m",
      "\u001b[31mKeyboardInterrupt\u001b[39m                         Traceback (most recent call last)",
      "\u001b[36mCell\u001b[39m\u001b[36m \u001b[39m\u001b[32mIn[5]\u001b[39m\u001b[32m, line 5\u001b[39m\n\u001b[32m      3\u001b[39m text_documents = []\n\u001b[32m      4\u001b[39m table_documents = []\n\u001b[32m----> \u001b[39m\u001b[32m5\u001b[39m raw_pdf_elements = \u001b[43mextract_pdf\u001b[49m\u001b[43m(\u001b[49m\u001b[43mfilename\u001b[49m\u001b[43m)\u001b[49m\n\u001b[32m      6\u001b[39m \u001b[38;5;28;01mfor\u001b[39;00m document \u001b[38;5;129;01min\u001b[39;00m raw_pdf_elements:\n\u001b[32m      7\u001b[39m     \u001b[38;5;28;01mif\u001b[39;00m document.category == \u001b[33m'\u001b[39m\u001b[33mTable\u001b[39m\u001b[33m'\u001b[39m:\n\u001b[32m      8\u001b[39m         \u001b[38;5;66;03m#transform table documents into langchain documents\u001b[39;00m\n",
      "\u001b[36mCell\u001b[39m\u001b[36m \u001b[39m\u001b[32mIn[4]\u001b[39m\u001b[32m, line 12\u001b[39m, in \u001b[36mextract_pdf\u001b[39m\u001b[34m(file_path)\u001b[39m\n\u001b[32m      3\u001b[39m \u001b[38;5;28;01mdef\u001b[39;00m\u001b[38;5;250m \u001b[39m\u001b[34mextract_pdf\u001b[39m(file_path):\n\u001b[32m      4\u001b[39m \u001b[38;5;250m    \u001b[39m\u001b[33;03m\"\"\"Extract text and tables from PDF file\u001b[39;00m\n\u001b[32m      5\u001b[39m \n\u001b[32m      6\u001b[39m \u001b[33;03m    Args:\u001b[39;00m\n\u001b[32m   (...)\u001b[39m\u001b[32m     10\u001b[39m \u001b[33;03m        List[Element]: A list of document elements (text, tables, etc.) extracted from the PDF.\u001b[39;00m\n\u001b[32m     11\u001b[39m \u001b[33;03m    \"\"\"\u001b[39;00m\n\u001b[32m---> \u001b[39m\u001b[32m12\u001b[39m     raw_pdf_elements = \u001b[43mpartition_pdf\u001b[49m\u001b[43m(\u001b[49m\n\u001b[32m     13\u001b[39m \u001b[43m        \u001b[49m\u001b[43mfilename\u001b[49m\u001b[43m=\u001b[49m\u001b[43mfile_path\u001b[49m\u001b[43m,\u001b[49m\n\u001b[32m     14\u001b[39m \u001b[43m        \u001b[49m\u001b[43mextract_images_in_pdf\u001b[49m\u001b[43m=\u001b[49m\u001b[38;5;28;43;01mFalse\u001b[39;49;00m\u001b[43m,\u001b[49m\u001b[43m \u001b[49m\u001b[38;5;66;43;03m# Keep False\u001b[39;49;00m\n\u001b[32m     15\u001b[39m \u001b[43m        \u001b[49m\u001b[43mstrategy\u001b[49m\u001b[43m=\u001b[49m\u001b[33;43m'\u001b[39;49m\u001b[33;43mhi_res\u001b[39;49m\u001b[33;43m'\u001b[39;49m\u001b[43m,\u001b[49m\n\u001b[32m     16\u001b[39m \u001b[43m        \u001b[49m\u001b[43mhi_res_model_name\u001b[49m\u001b[43m=\u001b[49m\u001b[33;43m'\u001b[39;49m\u001b[33;43myolox\u001b[39;49m\u001b[33;43m'\u001b[39;49m\u001b[43m,\u001b[49m\n\u001b[32m     17\u001b[39m \u001b[43m        \u001b[49m\u001b[43minfer_table_structure\u001b[49m\u001b[43m=\u001b[49m\u001b[38;5;28;43;01mTrue\u001b[39;49;00m\u001b[43m,\u001b[49m\u001b[43m \u001b[49m\u001b[38;5;66;43;03m# Set to True to enable table detection; otherwise, set to False.\u001b[39;49;00m\n\u001b[32m     18\u001b[39m \u001b[43m        \u001b[49m\u001b[43mchunking_strategy\u001b[49m\u001b[43m=\u001b[49m\u001b[33;43m'\u001b[39;49m\u001b[33;43mby_title\u001b[39;49m\u001b[33;43m'\u001b[39;49m\u001b[43m,\u001b[49m\n\u001b[32m     19\u001b[39m \u001b[43m        \u001b[49m\u001b[43mmax_characters\u001b[49m\u001b[43m=\u001b[49m\u001b[32;43m4096\u001b[39;49m\u001b[43m,\u001b[49m\n\u001b[32m     20\u001b[39m \u001b[43m        \u001b[49m\u001b[43mcombine_text_under_n_chars\u001b[49m\u001b[43m=\u001b[49m\u001b[32;43m500\u001b[39;49m\u001b[43m)\u001b[49m\n\u001b[32m     22\u001b[39m     \u001b[38;5;28;01mreturn\u001b[39;00m raw_pdf_elements\n",
      "\u001b[36mFile \u001b[39m\u001b[32m~/Documents/projects/Aramco/testing/SyntheticQA/data_gen_env/lib/python3.11/site-packages/unstructured/documents/elements.py:585\u001b[39m, in \u001b[36mprocess_metadata.<locals>.decorator.<locals>.wrapper\u001b[39m\u001b[34m(*args, **kwargs)\u001b[39m\n\u001b[32m    583\u001b[39m \u001b[38;5;129m@functools\u001b[39m.wraps(func)\n\u001b[32m    584\u001b[39m \u001b[38;5;28;01mdef\u001b[39;00m\u001b[38;5;250m \u001b[39m\u001b[34mwrapper\u001b[39m(*args: _P.args, **kwargs: _P.kwargs) -> \u001b[38;5;28mlist\u001b[39m[Element]:\n\u001b[32m--> \u001b[39m\u001b[32m585\u001b[39m     elements = \u001b[43mfunc\u001b[49m\u001b[43m(\u001b[49m\u001b[43m*\u001b[49m\u001b[43margs\u001b[49m\u001b[43m,\u001b[49m\u001b[43m \u001b[49m\u001b[43m*\u001b[49m\u001b[43m*\u001b[49m\u001b[43mkwargs\u001b[49m\u001b[43m)\u001b[49m\n\u001b[32m    586\u001b[39m     call_args = get_call_args_applying_defaults(func, *args, **kwargs)\n\u001b[32m    588\u001b[39m     unique_element_ids: \u001b[38;5;28mbool\u001b[39m = call_args.get(\u001b[33m\"\u001b[39m\u001b[33munique_element_ids\u001b[39m\u001b[33m\"\u001b[39m, \u001b[38;5;28;01mFalse\u001b[39;00m)\n",
      "\u001b[36mFile \u001b[39m\u001b[32m~/Documents/projects/Aramco/testing/SyntheticQA/data_gen_env/lib/python3.11/site-packages/unstructured/file_utils/filetype.py:816\u001b[39m, in \u001b[36madd_filetype.<locals>.decorator.<locals>.wrapper\u001b[39m\u001b[34m(*args, **kwargs)\u001b[39m\n\u001b[32m    814\u001b[39m \u001b[38;5;129m@functools\u001b[39m.wraps(func)\n\u001b[32m    815\u001b[39m \u001b[38;5;28;01mdef\u001b[39;00m\u001b[38;5;250m \u001b[39m\u001b[34mwrapper\u001b[39m(*args: _P.args, **kwargs: _P.kwargs) -> \u001b[38;5;28mlist\u001b[39m[Element]:\n\u001b[32m--> \u001b[39m\u001b[32m816\u001b[39m     elements = \u001b[43mfunc\u001b[49m\u001b[43m(\u001b[49m\u001b[43m*\u001b[49m\u001b[43margs\u001b[49m\u001b[43m,\u001b[49m\u001b[43m \u001b[49m\u001b[43m*\u001b[49m\u001b[43m*\u001b[49m\u001b[43mkwargs\u001b[49m\u001b[43m)\u001b[49m\n\u001b[32m    818\u001b[39m     \u001b[38;5;28;01mfor\u001b[39;00m element \u001b[38;5;129;01min\u001b[39;00m elements:\n\u001b[32m    819\u001b[39m         \u001b[38;5;66;03m# NOTE(robinson) - Attached files have already run through this logic\u001b[39;00m\n\u001b[32m    820\u001b[39m         \u001b[38;5;66;03m# in their own partitioning function\u001b[39;00m\n\u001b[32m    821\u001b[39m         \u001b[38;5;28;01mif\u001b[39;00m element.metadata.attached_to_filename \u001b[38;5;129;01mis\u001b[39;00m \u001b[38;5;28;01mNone\u001b[39;00m:\n",
      "\u001b[36mFile \u001b[39m\u001b[32m~/Documents/projects/Aramco/testing/SyntheticQA/data_gen_env/lib/python3.11/site-packages/unstructured/file_utils/filetype.py:774\u001b[39m, in \u001b[36madd_metadata.<locals>.wrapper\u001b[39m\u001b[34m(*args, **kwargs)\u001b[39m\n\u001b[32m    772\u001b[39m \u001b[38;5;129m@functools\u001b[39m.wraps(func)\n\u001b[32m    773\u001b[39m \u001b[38;5;28;01mdef\u001b[39;00m\u001b[38;5;250m \u001b[39m\u001b[34mwrapper\u001b[39m(*args: _P.args, **kwargs: _P.kwargs) -> \u001b[38;5;28mlist\u001b[39m[Element]:\n\u001b[32m--> \u001b[39m\u001b[32m774\u001b[39m     elements = \u001b[43mfunc\u001b[49m\u001b[43m(\u001b[49m\u001b[43m*\u001b[49m\u001b[43margs\u001b[49m\u001b[43m,\u001b[49m\u001b[43m \u001b[49m\u001b[43m*\u001b[49m\u001b[43m*\u001b[49m\u001b[43mkwargs\u001b[49m\u001b[43m)\u001b[49m\n\u001b[32m    775\u001b[39m     call_args = get_call_args_applying_defaults(func, *args, **kwargs)\n\u001b[32m    777\u001b[39m     \u001b[38;5;28;01mif\u001b[39;00m call_args.get(\u001b[33m\"\u001b[39m\u001b[33mmetadata_filename\u001b[39m\u001b[33m\"\u001b[39m):\n",
      "\u001b[36mFile \u001b[39m\u001b[32m~/Documents/projects/Aramco/testing/SyntheticQA/data_gen_env/lib/python3.11/site-packages/unstructured/chunking/dispatch.py:74\u001b[39m, in \u001b[36madd_chunking_strategy.<locals>.wrapper\u001b[39m\u001b[34m(*args, **kwargs)\u001b[39m\n\u001b[32m     71\u001b[39m \u001b[38;5;250m\u001b[39m\u001b[33;03m\"\"\"The decorated function is replaced with this one.\"\"\"\u001b[39;00m\n\u001b[32m     73\u001b[39m \u001b[38;5;66;03m# -- call the partitioning function to get the elements --\u001b[39;00m\n\u001b[32m---> \u001b[39m\u001b[32m74\u001b[39m elements = \u001b[43mfunc\u001b[49m\u001b[43m(\u001b[49m\u001b[43m*\u001b[49m\u001b[43margs\u001b[49m\u001b[43m,\u001b[49m\u001b[43m \u001b[49m\u001b[43m*\u001b[49m\u001b[43m*\u001b[49m\u001b[43mkwargs\u001b[49m\u001b[43m)\u001b[49m\n\u001b[32m     76\u001b[39m \u001b[38;5;66;03m# -- look for a chunking-strategy argument --\u001b[39;00m\n\u001b[32m     77\u001b[39m call_args = get_call_args_applying_defaults(func, *args, **kwargs)\n",
      "\u001b[36mFile \u001b[39m\u001b[32m~/Documents/projects/Aramco/testing/SyntheticQA/data_gen_env/lib/python3.11/site-packages/unstructured/partition/pdf.py:228\u001b[39m, in \u001b[36mpartition_pdf\u001b[39m\u001b[34m(filename, file, include_page_breaks, strategy, infer_table_structure, ocr_languages, languages, metadata_filename, metadata_last_modified, chunking_strategy, hi_res_model_name, extract_images_in_pdf, extract_image_block_types, extract_image_block_output_dir, extract_image_block_to_payload, starting_page_number, extract_forms, form_extraction_skip_tables, password, pdfminer_line_margin, pdfminer_char_margin, pdfminer_line_overlap, pdfminer_word_margin, **kwargs)\u001b[39m\n\u001b[32m    225\u001b[39m exactly_one(filename=filename, file=file)\n\u001b[32m    227\u001b[39m languages = check_language_args(languages \u001b[38;5;129;01mor\u001b[39;00m [], ocr_languages)\n\u001b[32m--> \u001b[39m\u001b[32m228\u001b[39m \u001b[38;5;28;01mreturn\u001b[39;00m \u001b[43mpartition_pdf_or_image\u001b[49m\u001b[43m(\u001b[49m\n\u001b[32m    229\u001b[39m \u001b[43m    \u001b[49m\u001b[43mfilename\u001b[49m\u001b[43m=\u001b[49m\u001b[43mfilename\u001b[49m\u001b[43m,\u001b[49m\n\u001b[32m    230\u001b[39m \u001b[43m    \u001b[49m\u001b[43mfile\u001b[49m\u001b[43m=\u001b[49m\u001b[43mfile\u001b[49m\u001b[43m,\u001b[49m\n\u001b[32m    231\u001b[39m \u001b[43m    \u001b[49m\u001b[43minclude_page_breaks\u001b[49m\u001b[43m=\u001b[49m\u001b[43minclude_page_breaks\u001b[49m\u001b[43m,\u001b[49m\n\u001b[32m    232\u001b[39m \u001b[43m    \u001b[49m\u001b[43mstrategy\u001b[49m\u001b[43m=\u001b[49m\u001b[43mstrategy\u001b[49m\u001b[43m,\u001b[49m\n\u001b[32m    233\u001b[39m \u001b[43m    \u001b[49m\u001b[43minfer_table_structure\u001b[49m\u001b[43m=\u001b[49m\u001b[43minfer_table_structure\u001b[49m\u001b[43m,\u001b[49m\n\u001b[32m    234\u001b[39m \u001b[43m    \u001b[49m\u001b[43mlanguages\u001b[49m\u001b[43m=\u001b[49m\u001b[43mlanguages\u001b[49m\u001b[43m,\u001b[49m\n\u001b[32m    235\u001b[39m \u001b[43m    \u001b[49m\u001b[43mmetadata_last_modified\u001b[49m\u001b[43m=\u001b[49m\u001b[43mmetadata_last_modified\u001b[49m\u001b[43m,\u001b[49m\n\u001b[32m    236\u001b[39m \u001b[43m    \u001b[49m\u001b[43mhi_res_model_name\u001b[49m\u001b[43m=\u001b[49m\u001b[43mhi_res_model_name\u001b[49m\u001b[43m,\u001b[49m\n\u001b[32m    237\u001b[39m \u001b[43m    \u001b[49m\u001b[43mextract_images_in_pdf\u001b[49m\u001b[43m=\u001b[49m\u001b[43mextract_images_in_pdf\u001b[49m\u001b[43m,\u001b[49m\n\u001b[32m    238\u001b[39m \u001b[43m    \u001b[49m\u001b[43mextract_image_block_types\u001b[49m\u001b[43m=\u001b[49m\u001b[43mextract_image_block_types\u001b[49m\u001b[43m,\u001b[49m\n\u001b[32m    239\u001b[39m \u001b[43m    \u001b[49m\u001b[43mextract_image_block_output_dir\u001b[49m\u001b[43m=\u001b[49m\u001b[43mextract_image_block_output_dir\u001b[49m\u001b[43m,\u001b[49m\n\u001b[32m    240\u001b[39m \u001b[43m    \u001b[49m\u001b[43mextract_image_block_to_payload\u001b[49m\u001b[43m=\u001b[49m\u001b[43mextract_image_block_to_payload\u001b[49m\u001b[43m,\u001b[49m\n\u001b[32m    241\u001b[39m \u001b[43m    \u001b[49m\u001b[43mstarting_page_number\u001b[49m\u001b[43m=\u001b[49m\u001b[43mstarting_page_number\u001b[49m\u001b[43m,\u001b[49m\n\u001b[32m    242\u001b[39m \u001b[43m    \u001b[49m\u001b[43mextract_forms\u001b[49m\u001b[43m=\u001b[49m\u001b[43mextract_forms\u001b[49m\u001b[43m,\u001b[49m\n\u001b[32m    243\u001b[39m \u001b[43m    \u001b[49m\u001b[43mform_extraction_skip_tables\u001b[49m\u001b[43m=\u001b[49m\u001b[43mform_extraction_skip_tables\u001b[49m\u001b[43m,\u001b[49m\n\u001b[32m    244\u001b[39m \u001b[43m    \u001b[49m\u001b[43mpassword\u001b[49m\u001b[43m=\u001b[49m\u001b[43mpassword\u001b[49m\u001b[43m,\u001b[49m\n\u001b[32m    245\u001b[39m \u001b[43m    \u001b[49m\u001b[43mpdfminer_line_margin\u001b[49m\u001b[43m=\u001b[49m\u001b[43mpdfminer_line_margin\u001b[49m\u001b[43m,\u001b[49m\n\u001b[32m    246\u001b[39m \u001b[43m    \u001b[49m\u001b[43mpdfminer_char_margin\u001b[49m\u001b[43m=\u001b[49m\u001b[43mpdfminer_char_margin\u001b[49m\u001b[43m,\u001b[49m\n\u001b[32m    247\u001b[39m \u001b[43m    \u001b[49m\u001b[43mpdfminer_line_overlap\u001b[49m\u001b[43m=\u001b[49m\u001b[43mpdfminer_line_overlap\u001b[49m\u001b[43m,\u001b[49m\n\u001b[32m    248\u001b[39m \u001b[43m    \u001b[49m\u001b[43mpdfminer_word_margin\u001b[49m\u001b[43m=\u001b[49m\u001b[43mpdfminer_word_margin\u001b[49m\u001b[43m,\u001b[49m\n\u001b[32m    249\u001b[39m \u001b[43m    \u001b[49m\u001b[43m*\u001b[49m\u001b[43m*\u001b[49m\u001b[43mkwargs\u001b[49m\u001b[43m,\u001b[49m\n\u001b[32m    250\u001b[39m \u001b[43m\u001b[49m\u001b[43m)\u001b[49m\n",
      "\u001b[36mFile \u001b[39m\u001b[32m~/Documents/projects/Aramco/testing/SyntheticQA/data_gen_env/lib/python3.11/site-packages/unstructured/partition/pdf.py:341\u001b[39m, in \u001b[36mpartition_pdf_or_image\u001b[39m\u001b[34m(filename, file, is_image, include_page_breaks, strategy, infer_table_structure, languages, metadata_last_modified, hi_res_model_name, extract_images_in_pdf, extract_image_block_types, extract_image_block_output_dir, extract_image_block_to_payload, starting_page_number, extract_forms, form_extraction_skip_tables, password, pdfminer_line_margin, pdfminer_char_margin, pdfminer_line_overlap, pdfminer_word_margin, ocr_agent, table_ocr_agent, **kwargs)\u001b[39m\n\u001b[32m    339\u001b[39m     \u001b[38;5;28;01mwith\u001b[39;00m warnings.catch_warnings():\n\u001b[32m    340\u001b[39m         warnings.simplefilter(\u001b[33m\"\u001b[39m\u001b[33mignore\u001b[39m\u001b[33m\"\u001b[39m)\n\u001b[32m--> \u001b[39m\u001b[32m341\u001b[39m         elements = \u001b[43m_partition_pdf_or_image_local\u001b[49m\u001b[43m(\u001b[49m\n\u001b[32m    342\u001b[39m \u001b[43m            \u001b[49m\u001b[43mfilename\u001b[49m\u001b[43m=\u001b[49m\u001b[43mfilename\u001b[49m\u001b[43m,\u001b[49m\n\u001b[32m    343\u001b[39m \u001b[43m            \u001b[49m\u001b[43mfile\u001b[49m\u001b[43m=\u001b[49m\u001b[43mspooled_to_bytes_io_if_needed\u001b[49m\u001b[43m(\u001b[49m\u001b[43mfile\u001b[49m\u001b[43m)\u001b[49m\u001b[43m,\u001b[49m\n\u001b[32m    344\u001b[39m \u001b[43m            \u001b[49m\u001b[43mis_image\u001b[49m\u001b[43m=\u001b[49m\u001b[43mis_image\u001b[49m\u001b[43m,\u001b[49m\n\u001b[32m    345\u001b[39m \u001b[43m            \u001b[49m\u001b[43minfer_table_structure\u001b[49m\u001b[43m=\u001b[49m\u001b[43minfer_table_structure\u001b[49m\u001b[43m,\u001b[49m\n\u001b[32m    346\u001b[39m \u001b[43m            \u001b[49m\u001b[43minclude_page_breaks\u001b[49m\u001b[43m=\u001b[49m\u001b[43minclude_page_breaks\u001b[49m\u001b[43m,\u001b[49m\n\u001b[32m    347\u001b[39m \u001b[43m            \u001b[49m\u001b[43mlanguages\u001b[49m\u001b[43m=\u001b[49m\u001b[43mlanguages\u001b[49m\u001b[43m,\u001b[49m\n\u001b[32m    348\u001b[39m \u001b[43m            \u001b[49m\u001b[43mocr_languages\u001b[49m\u001b[43m=\u001b[49m\u001b[43mocr_languages\u001b[49m\u001b[43m,\u001b[49m\n\u001b[32m    349\u001b[39m \u001b[43m            \u001b[49m\u001b[43mmetadata_last_modified\u001b[49m\u001b[43m=\u001b[49m\u001b[43mmetadata_last_modified\u001b[49m\u001b[43m \u001b[49m\u001b[38;5;129;43;01mor\u001b[39;49;00m\u001b[43m \u001b[49m\u001b[43mlast_modified\u001b[49m\u001b[43m,\u001b[49m\n\u001b[32m    350\u001b[39m \u001b[43m            \u001b[49m\u001b[43mhi_res_model_name\u001b[49m\u001b[43m=\u001b[49m\u001b[43mhi_res_model_name\u001b[49m\u001b[43m,\u001b[49m\n\u001b[32m    351\u001b[39m \u001b[43m            \u001b[49m\u001b[43mpdf_text_extractable\u001b[49m\u001b[43m=\u001b[49m\u001b[43mpdf_text_extractable\u001b[49m\u001b[43m,\u001b[49m\n\u001b[32m    352\u001b[39m \u001b[43m            \u001b[49m\u001b[43mextract_images_in_pdf\u001b[49m\u001b[43m=\u001b[49m\u001b[43mextract_images_in_pdf\u001b[49m\u001b[43m,\u001b[49m\n\u001b[32m    353\u001b[39m \u001b[43m            \u001b[49m\u001b[43mextract_image_block_types\u001b[49m\u001b[43m=\u001b[49m\u001b[43mextract_image_block_types\u001b[49m\u001b[43m,\u001b[49m\n\u001b[32m    354\u001b[39m \u001b[43m            \u001b[49m\u001b[43mextract_image_block_output_dir\u001b[49m\u001b[43m=\u001b[49m\u001b[43mextract_image_block_output_dir\u001b[49m\u001b[43m,\u001b[49m\n\u001b[32m    355\u001b[39m \u001b[43m            \u001b[49m\u001b[43mextract_image_block_to_payload\u001b[49m\u001b[43m=\u001b[49m\u001b[43mextract_image_block_to_payload\u001b[49m\u001b[43m,\u001b[49m\n\u001b[32m    356\u001b[39m \u001b[43m            \u001b[49m\u001b[43mstarting_page_number\u001b[49m\u001b[43m=\u001b[49m\u001b[43mstarting_page_number\u001b[49m\u001b[43m,\u001b[49m\n\u001b[32m    357\u001b[39m \u001b[43m            \u001b[49m\u001b[43mextract_forms\u001b[49m\u001b[43m=\u001b[49m\u001b[43mextract_forms\u001b[49m\u001b[43m,\u001b[49m\n\u001b[32m    358\u001b[39m \u001b[43m            \u001b[49m\u001b[43mform_extraction_skip_tables\u001b[49m\u001b[43m=\u001b[49m\u001b[43mform_extraction_skip_tables\u001b[49m\u001b[43m,\u001b[49m\n\u001b[32m    359\u001b[39m \u001b[43m            \u001b[49m\u001b[43mpassword\u001b[49m\u001b[43m=\u001b[49m\u001b[43mpassword\u001b[49m\u001b[43m,\u001b[49m\n\u001b[32m    360\u001b[39m \u001b[43m            \u001b[49m\u001b[43mpdfminer_config\u001b[49m\u001b[43m=\u001b[49m\u001b[43mpdfminer_config\u001b[49m\u001b[43m,\u001b[49m\n\u001b[32m    361\u001b[39m \u001b[43m            \u001b[49m\u001b[43mocr_agent\u001b[49m\u001b[43m=\u001b[49m\u001b[43mocr_agent\u001b[49m\u001b[43m,\u001b[49m\n\u001b[32m    362\u001b[39m \u001b[43m            \u001b[49m\u001b[43mtable_ocr_agent\u001b[49m\u001b[43m=\u001b[49m\u001b[43mtable_ocr_agent\u001b[49m\u001b[43m,\u001b[49m\n\u001b[32m    363\u001b[39m \u001b[43m            \u001b[49m\u001b[43m*\u001b[49m\u001b[43m*\u001b[49m\u001b[43mkwargs\u001b[49m\u001b[43m,\u001b[49m\n\u001b[32m    364\u001b[39m \u001b[43m        \u001b[49m\u001b[43m)\u001b[49m\n\u001b[32m    365\u001b[39m         out_elements = _process_uncategorized_text_elements(elements)\n\u001b[32m    367\u001b[39m \u001b[38;5;28;01melif\u001b[39;00m strategy == PartitionStrategy.FAST:\n",
      "\u001b[36mFile \u001b[39m\u001b[32m~/Documents/projects/Aramco/testing/SyntheticQA/data_gen_env/lib/python3.11/site-packages/unstructured/utils.py:216\u001b[39m, in \u001b[36mrequires_dependencies.<locals>.decorator.<locals>.wrapper\u001b[39m\u001b[34m(*args, **kwargs)\u001b[39m\n\u001b[32m    213\u001b[39m \u001b[38;5;129m@wraps\u001b[39m(func)\n\u001b[32m    214\u001b[39m \u001b[38;5;28;01mdef\u001b[39;00m\u001b[38;5;250m \u001b[39m\u001b[34mwrapper\u001b[39m(*args: _P.args, **kwargs: _P.kwargs):\n\u001b[32m    215\u001b[39m     run_check()\n\u001b[32m--> \u001b[39m\u001b[32m216\u001b[39m     \u001b[38;5;28;01mreturn\u001b[39;00m \u001b[43mfunc\u001b[49m\u001b[43m(\u001b[49m\u001b[43m*\u001b[49m\u001b[43margs\u001b[49m\u001b[43m,\u001b[49m\u001b[43m \u001b[49m\u001b[43m*\u001b[49m\u001b[43m*\u001b[49m\u001b[43mkwargs\u001b[49m\u001b[43m)\u001b[49m\n",
      "\u001b[36mFile \u001b[39m\u001b[32m~/Documents/projects/Aramco/testing/SyntheticQA/data_gen_env/lib/python3.11/site-packages/unstructured/partition/pdf.py:690\u001b[39m, in \u001b[36m_partition_pdf_or_image_local\u001b[39m\u001b[34m(filename, file, is_image, infer_table_structure, include_page_breaks, languages, ocr_languages, ocr_mode, model_name, hi_res_model_name, pdf_image_dpi, metadata_last_modified, pdf_text_extractable, extract_images_in_pdf, extract_image_block_types, extract_image_block_output_dir, extract_image_block_to_payload, analysis, analyzed_image_output_dir_path, starting_page_number, extract_forms, form_extraction_skip_tables, pdf_hi_res_max_pages, password, pdfminer_config, ocr_agent, table_ocr_agent, **kwargs)\u001b[39m\n\u001b[32m    683\u001b[39m     \u001b[38;5;66;03m# NOTE(christine): merged_document_layout = extracted_layout + inferred_layout\u001b[39;00m\n\u001b[32m    684\u001b[39m     merged_document_layout = merge_inferred_with_extracted_layout(\n\u001b[32m    685\u001b[39m         inferred_document_layout=inferred_document_layout,\n\u001b[32m    686\u001b[39m         extracted_layout=extracted_layout,\n\u001b[32m    687\u001b[39m         hi_res_model_name=hi_res_model_name,\n\u001b[32m    688\u001b[39m     )\n\u001b[32m--> \u001b[39m\u001b[32m690\u001b[39m     final_document_layout = \u001b[43mprocess_file_with_ocr\u001b[49m\u001b[43m(\u001b[49m\n\u001b[32m    691\u001b[39m \u001b[43m        \u001b[49m\u001b[43mfilename\u001b[49m\u001b[43m,\u001b[49m\n\u001b[32m    692\u001b[39m \u001b[43m        \u001b[49m\u001b[43mmerged_document_layout\u001b[49m\u001b[43m,\u001b[49m\n\u001b[32m    693\u001b[39m \u001b[43m        \u001b[49m\u001b[43mextracted_layout\u001b[49m\u001b[43m=\u001b[49m\u001b[43mextracted_layout\u001b[49m\u001b[43m,\u001b[49m\n\u001b[32m    694\u001b[39m \u001b[43m        \u001b[49m\u001b[43mis_image\u001b[49m\u001b[43m=\u001b[49m\u001b[43mis_image\u001b[49m\u001b[43m,\u001b[49m\n\u001b[32m    695\u001b[39m \u001b[43m        \u001b[49m\u001b[43minfer_table_structure\u001b[49m\u001b[43m=\u001b[49m\u001b[43minfer_table_structure\u001b[49m\u001b[43m,\u001b[49m\n\u001b[32m    696\u001b[39m \u001b[43m        \u001b[49m\u001b[43mocr_agent\u001b[49m\u001b[43m=\u001b[49m\u001b[43mocr_agent\u001b[49m\u001b[43m,\u001b[49m\n\u001b[32m    697\u001b[39m \u001b[43m        \u001b[49m\u001b[43mocr_languages\u001b[49m\u001b[43m=\u001b[49m\u001b[43mocr_languages\u001b[49m\u001b[43m,\u001b[49m\n\u001b[32m    698\u001b[39m \u001b[43m        \u001b[49m\u001b[43mocr_mode\u001b[49m\u001b[43m=\u001b[49m\u001b[43mocr_mode\u001b[49m\u001b[43m,\u001b[49m\n\u001b[32m    699\u001b[39m \u001b[43m        \u001b[49m\u001b[43mpdf_image_dpi\u001b[49m\u001b[43m=\u001b[49m\u001b[43mpdf_image_dpi\u001b[49m\u001b[43m,\u001b[49m\n\u001b[32m    700\u001b[39m \u001b[43m        \u001b[49m\u001b[43mocr_layout_dumper\u001b[49m\u001b[43m=\u001b[49m\u001b[43mocr_layout_dumper\u001b[49m\u001b[43m,\u001b[49m\n\u001b[32m    701\u001b[39m \u001b[43m        \u001b[49m\u001b[43mpassword\u001b[49m\u001b[43m=\u001b[49m\u001b[43mpassword\u001b[49m\u001b[43m,\u001b[49m\n\u001b[32m    702\u001b[39m \u001b[43m        \u001b[49m\u001b[43mtable_ocr_agent\u001b[49m\u001b[43m=\u001b[49m\u001b[43mtable_ocr_agent\u001b[49m\u001b[43m,\u001b[49m\n\u001b[32m    703\u001b[39m \u001b[43m    \u001b[49m\u001b[43m)\u001b[49m\n\u001b[32m    704\u001b[39m \u001b[38;5;28;01melse\u001b[39;00m:\n\u001b[32m    705\u001b[39m     inferred_document_layout = process_data_with_model(\n\u001b[32m    706\u001b[39m         file,\n\u001b[32m    707\u001b[39m         is_image=is_image,\n\u001b[32m   (...)\u001b[39m\u001b[32m    710\u001b[39m         password=password,\n\u001b[32m    711\u001b[39m     )\n",
      "\u001b[36mFile \u001b[39m\u001b[32m~/Documents/projects/Aramco/testing/SyntheticQA/data_gen_env/lib/python3.11/site-packages/unstructured/utils.py:216\u001b[39m, in \u001b[36mrequires_dependencies.<locals>.decorator.<locals>.wrapper\u001b[39m\u001b[34m(*args, **kwargs)\u001b[39m\n\u001b[32m    213\u001b[39m \u001b[38;5;129m@wraps\u001b[39m(func)\n\u001b[32m    214\u001b[39m \u001b[38;5;28;01mdef\u001b[39;00m\u001b[38;5;250m \u001b[39m\u001b[34mwrapper\u001b[39m(*args: _P.args, **kwargs: _P.kwargs):\n\u001b[32m    215\u001b[39m     run_check()\n\u001b[32m--> \u001b[39m\u001b[32m216\u001b[39m     \u001b[38;5;28;01mreturn\u001b[39;00m \u001b[43mfunc\u001b[49m\u001b[43m(\u001b[49m\u001b[43m*\u001b[49m\u001b[43margs\u001b[49m\u001b[43m,\u001b[49m\u001b[43m \u001b[49m\u001b[43m*\u001b[49m\u001b[43m*\u001b[49m\u001b[43mkwargs\u001b[49m\u001b[43m)\u001b[49m\n",
      "\u001b[36mFile \u001b[39m\u001b[32m~/Documents/projects/Aramco/testing/SyntheticQA/data_gen_env/lib/python3.11/site-packages/unstructured/partition/pdf_image/ocr.py:186\u001b[39m, in \u001b[36mprocess_file_with_ocr\u001b[39m\u001b[34m(filename, out_layout, extracted_layout, is_image, infer_table_structure, ocr_agent, ocr_languages, ocr_mode, pdf_image_dpi, ocr_layout_dumper, password, table_ocr_agent)\u001b[39m\n\u001b[32m    184\u001b[39m     extracted_regions = extracted_layout[i] \u001b[38;5;28;01mif\u001b[39;00m i < \u001b[38;5;28mlen\u001b[39m(extracted_layout) \u001b[38;5;28;01melse\u001b[39;00m \u001b[38;5;28;01mNone\u001b[39;00m\n\u001b[32m    185\u001b[39m     \u001b[38;5;28;01mwith\u001b[39;00m PILImage.open(image_path) \u001b[38;5;28;01mas\u001b[39;00m image:\n\u001b[32m--> \u001b[39m\u001b[32m186\u001b[39m         merged_page_layout = \u001b[43msupplement_page_layout_with_ocr\u001b[49m\u001b[43m(\u001b[49m\n\u001b[32m    187\u001b[39m \u001b[43m            \u001b[49m\u001b[43mpage_layout\u001b[49m\u001b[43m=\u001b[49m\u001b[43mout_layout\u001b[49m\u001b[43m.\u001b[49m\u001b[43mpages\u001b[49m\u001b[43m[\u001b[49m\u001b[43mi\u001b[49m\u001b[43m]\u001b[49m\u001b[43m,\u001b[49m\n\u001b[32m    188\u001b[39m \u001b[43m            \u001b[49m\u001b[43mimage\u001b[49m\u001b[43m=\u001b[49m\u001b[43mimage\u001b[49m\u001b[43m,\u001b[49m\n\u001b[32m    189\u001b[39m \u001b[43m            \u001b[49m\u001b[43minfer_table_structure\u001b[49m\u001b[43m=\u001b[49m\u001b[43minfer_table_structure\u001b[49m\u001b[43m,\u001b[49m\n\u001b[32m    190\u001b[39m \u001b[43m            \u001b[49m\u001b[43mocr_agent\u001b[49m\u001b[43m=\u001b[49m\u001b[43mocr_agent\u001b[49m\u001b[43m,\u001b[49m\n\u001b[32m    191\u001b[39m \u001b[43m            \u001b[49m\u001b[43mocr_languages\u001b[49m\u001b[43m=\u001b[49m\u001b[43mocr_languages\u001b[49m\u001b[43m,\u001b[49m\n\u001b[32m    192\u001b[39m \u001b[43m            \u001b[49m\u001b[43mocr_mode\u001b[49m\u001b[43m=\u001b[49m\u001b[43mocr_mode\u001b[49m\u001b[43m,\u001b[49m\n\u001b[32m    193\u001b[39m \u001b[43m            \u001b[49m\u001b[43mextracted_regions\u001b[49m\u001b[43m=\u001b[49m\u001b[43mextracted_regions\u001b[49m\u001b[43m,\u001b[49m\n\u001b[32m    194\u001b[39m \u001b[43m            \u001b[49m\u001b[43mocr_layout_dumper\u001b[49m\u001b[43m=\u001b[49m\u001b[43mocr_layout_dumper\u001b[49m\u001b[43m,\u001b[49m\n\u001b[32m    195\u001b[39m \u001b[43m            \u001b[49m\u001b[43mtable_ocr_agent\u001b[49m\u001b[43m=\u001b[49m\u001b[43mtable_ocr_agent\u001b[49m\u001b[43m,\u001b[49m\n\u001b[32m    196\u001b[39m \u001b[43m        \u001b[49m\u001b[43m)\u001b[49m\n\u001b[32m    197\u001b[39m         merged_page_layouts.append(merged_page_layout)\n\u001b[32m    198\u001b[39m \u001b[38;5;28;01mreturn\u001b[39;00m DocumentLayout.from_pages(merged_page_layouts)\n",
      "\u001b[36mFile \u001b[39m\u001b[32m~/Documents/projects/Aramco/testing/SyntheticQA/data_gen_env/lib/python3.11/site-packages/unstructured/utils.py:216\u001b[39m, in \u001b[36mrequires_dependencies.<locals>.decorator.<locals>.wrapper\u001b[39m\u001b[34m(*args, **kwargs)\u001b[39m\n\u001b[32m    213\u001b[39m \u001b[38;5;129m@wraps\u001b[39m(func)\n\u001b[32m    214\u001b[39m \u001b[38;5;28;01mdef\u001b[39;00m\u001b[38;5;250m \u001b[39m\u001b[34mwrapper\u001b[39m(*args: _P.args, **kwargs: _P.kwargs):\n\u001b[32m    215\u001b[39m     run_check()\n\u001b[32m--> \u001b[39m\u001b[32m216\u001b[39m     \u001b[38;5;28;01mreturn\u001b[39;00m \u001b[43mfunc\u001b[49m\u001b[43m(\u001b[49m\u001b[43m*\u001b[49m\u001b[43margs\u001b[49m\u001b[43m,\u001b[49m\u001b[43m \u001b[49m\u001b[43m*\u001b[49m\u001b[43m*\u001b[49m\u001b[43mkwargs\u001b[49m\u001b[43m)\u001b[49m\n",
      "\u001b[36mFile \u001b[39m\u001b[32m~/Documents/projects/Aramco/testing/SyntheticQA/data_gen_env/lib/python3.11/site-packages/unstructured/partition/pdf_image/ocr.py:231\u001b[39m, in \u001b[36msupplement_page_layout_with_ocr\u001b[39m\u001b[34m(page_layout, image, infer_table_structure, ocr_agent, ocr_languages, ocr_mode, extracted_regions, ocr_layout_dumper, table_ocr_agent)\u001b[39m\n\u001b[32m    229\u001b[39m _ocr_agent = OCRAgent.get_instance(ocr_agent_module=ocr_agent, language=language)\n\u001b[32m    230\u001b[39m \u001b[38;5;28;01mif\u001b[39;00m ocr_mode == OCRMode.FULL_PAGE.value:\n\u001b[32m--> \u001b[39m\u001b[32m231\u001b[39m     ocr_layout = \u001b[43m_ocr_agent\u001b[49m\u001b[43m.\u001b[49m\u001b[43mget_layout_from_image\u001b[49m\u001b[43m(\u001b[49m\u001b[43mimage\u001b[49m\u001b[43m)\u001b[49m\n\u001b[32m    232\u001b[39m     \u001b[38;5;28;01mif\u001b[39;00m ocr_layout_dumper:\n\u001b[32m    233\u001b[39m         ocr_layout_dumper.add_ocred_page(ocr_layout.as_list())\n",
      "\u001b[36mFile \u001b[39m\u001b[32m~/Documents/projects/Aramco/testing/SyntheticQA/data_gen_env/lib/python3.11/site-packages/unstructured/partition/utils/ocr_models/tesseract_ocr.py:53\u001b[39m, in \u001b[36mOCRAgentTesseract.get_layout_from_image\u001b[39m\u001b[34m(self, image)\u001b[39m\n\u001b[32m     51\u001b[39m trace_logger.detail(\u001b[33m\"\u001b[39m\u001b[33mProcessing entire page OCR with tesseract...\u001b[39m\u001b[33m\"\u001b[39m)\n\u001b[32m     52\u001b[39m zoom = \u001b[32m1\u001b[39m\n\u001b[32m---> \u001b[39m\u001b[32m53\u001b[39m ocr_df: pd.DataFrame = \u001b[38;5;28;43mself\u001b[39;49m\u001b[43m.\u001b[49m\u001b[43mimage_to_data_with_character_confidence_filter\u001b[49m\u001b[43m(\u001b[49m\n\u001b[32m     54\u001b[39m \u001b[43m    \u001b[49m\u001b[43mnp\u001b[49m\u001b[43m.\u001b[49m\u001b[43marray\u001b[49m\u001b[43m(\u001b[49m\u001b[43mimage\u001b[49m\u001b[43m)\u001b[49m\u001b[43m,\u001b[49m\n\u001b[32m     55\u001b[39m \u001b[43m    \u001b[49m\u001b[43mlang\u001b[49m\u001b[43m=\u001b[49m\u001b[38;5;28;43mself\u001b[39;49m\u001b[43m.\u001b[49m\u001b[43mlanguage\u001b[49m\u001b[43m,\u001b[49m\n\u001b[32m     56\u001b[39m \u001b[43m    \u001b[49m\u001b[43mcharacter_confidence_threshold\u001b[49m\u001b[43m=\u001b[49m\u001b[43menv_config\u001b[49m\u001b[43m.\u001b[49m\u001b[43mTESSERACT_CHARACTER_CONFIDENCE_THRESHOLD\u001b[49m\u001b[43m,\u001b[49m\n\u001b[32m     57\u001b[39m \u001b[43m\u001b[49m\u001b[43m)\u001b[49m\n\u001b[32m     58\u001b[39m ocr_df = ocr_df.dropna()\n\u001b[32m     60\u001b[39m \u001b[38;5;66;03m# tesseract performance degrades when the text height is out of the preferred zone so we\u001b[39;00m\n\u001b[32m     61\u001b[39m \u001b[38;5;66;03m# zoom the image (in or out depending on estimated text height) for optimum OCR results\u001b[39;00m\n\u001b[32m     62\u001b[39m \u001b[38;5;66;03m# but this needs to be evaluated based on actual use case as the optimum scaling also\u001b[39;00m\n\u001b[32m     63\u001b[39m \u001b[38;5;66;03m# depend on type of characters (font, language, etc); be careful about this\u001b[39;00m\n\u001b[32m     64\u001b[39m \u001b[38;5;66;03m# functionality\u001b[39;00m\n",
      "\u001b[36mFile \u001b[39m\u001b[32m~/Documents/projects/Aramco/testing/SyntheticQA/data_gen_env/lib/python3.11/site-packages/unstructured/partition/utils/ocr_models/tesseract_ocr.py:99\u001b[39m, in \u001b[36mOCRAgentTesseract.image_to_data_with_character_confidence_filter\u001b[39m\u001b[34m(self, image, lang, config, character_confidence_threshold)\u001b[39m\n\u001b[32m     92\u001b[39m \u001b[38;5;28;01mdef\u001b[39;00m\u001b[38;5;250m \u001b[39m\u001b[34mimage_to_data_with_character_confidence_filter\u001b[39m(\n\u001b[32m     93\u001b[39m     \u001b[38;5;28mself\u001b[39m,\n\u001b[32m     94\u001b[39m     image: np.ndarray,\n\u001b[32m   (...)\u001b[39m\u001b[32m     97\u001b[39m     character_confidence_threshold: \u001b[38;5;28mfloat\u001b[39m = \u001b[32m0.0\u001b[39m,\n\u001b[32m     98\u001b[39m ) -> pd.DataFrame:\n\u001b[32m---> \u001b[39m\u001b[32m99\u001b[39m     hocr: \u001b[38;5;28mstr\u001b[39m = \u001b[43munstructured_pytesseract\u001b[49m\u001b[43m.\u001b[49m\u001b[43mimage_to_pdf_or_hocr\u001b[49m\u001b[43m(\u001b[49m\n\u001b[32m    100\u001b[39m \u001b[43m        \u001b[49m\u001b[43mimage\u001b[49m\u001b[43m,\u001b[49m\n\u001b[32m    101\u001b[39m \u001b[43m        \u001b[49m\u001b[43mlang\u001b[49m\u001b[43m=\u001b[49m\u001b[43mlang\u001b[49m\u001b[43m,\u001b[49m\n\u001b[32m    102\u001b[39m \u001b[43m        \u001b[49m\u001b[43mconfig\u001b[49m\u001b[43m=\u001b[49m\u001b[33;43m\"\u001b[39;49m\u001b[33;43m-c hocr_char_boxes=1 \u001b[39;49m\u001b[33;43m\"\u001b[39;49m\u001b[43m \u001b[49m\u001b[43m+\u001b[49m\u001b[43m \u001b[49m\u001b[43mconfig\u001b[49m\u001b[43m,\u001b[49m\n\u001b[32m    103\u001b[39m \u001b[43m        \u001b[49m\u001b[43mextension\u001b[49m\u001b[43m=\u001b[49m\u001b[33;43m\"\u001b[39;49m\u001b[33;43mhocr\u001b[39;49m\u001b[33;43m\"\u001b[39;49m\u001b[43m,\u001b[49m\n\u001b[32m    104\u001b[39m \u001b[43m    \u001b[49m\u001b[43m)\u001b[49m\n\u001b[32m    105\u001b[39m     ocr_df = \u001b[38;5;28mself\u001b[39m.hocr_to_dataframe(hocr, character_confidence_threshold)\n\u001b[32m    106\u001b[39m     \u001b[38;5;28;01mreturn\u001b[39;00m ocr_df\n",
      "\u001b[36mFile \u001b[39m\u001b[32m~/Documents/projects/Aramco/testing/SyntheticQA/data_gen_env/lib/python3.11/site-packages/unstructured_pytesseract/pytesseract.py:514\u001b[39m, in \u001b[36mimage_to_pdf_or_hocr\u001b[39m\u001b[34m(image, lang, config, nice, extension, timeout)\u001b[39m\n\u001b[32m    510\u001b[39m     config = \u001b[33mf\u001b[39m\u001b[33m'\u001b[39m\u001b[33m-c tessedit_create_hocr=1 \u001b[39m\u001b[38;5;132;01m{\u001b[39;00mconfig.strip()\u001b[38;5;132;01m}\u001b[39;00m\u001b[33m'\u001b[39m\n\u001b[32m    512\u001b[39m args = [image, extension, lang, config, nice, timeout, \u001b[38;5;28;01mTrue\u001b[39;00m]\n\u001b[32m--> \u001b[39m\u001b[32m514\u001b[39m \u001b[38;5;28;01mreturn\u001b[39;00m \u001b[43mrun_and_get_output\u001b[49m\u001b[43m(\u001b[49m\u001b[43m*\u001b[49m\u001b[43margs\u001b[49m\u001b[43m)\u001b[49m\n",
      "\u001b[36mFile \u001b[39m\u001b[32m~/Documents/projects/Aramco/testing/SyntheticQA/data_gen_env/lib/python3.11/site-packages/unstructured_pytesseract/pytesseract.py:353\u001b[39m, in \u001b[36mrun_and_get_output\u001b[39m\u001b[34m(image, extension, lang, config, nice, timeout, return_bytes)\u001b[39m\n\u001b[32m    342\u001b[39m \u001b[38;5;28;01mwith\u001b[39;00m save(image) \u001b[38;5;28;01mas\u001b[39;00m (temp_name, input_filename):\n\u001b[32m    343\u001b[39m     kwargs = {\n\u001b[32m    344\u001b[39m         \u001b[33m'\u001b[39m\u001b[33minput_filename\u001b[39m\u001b[33m'\u001b[39m: input_filename,\n\u001b[32m    345\u001b[39m         \u001b[33m'\u001b[39m\u001b[33moutput_filename_base\u001b[39m\u001b[33m'\u001b[39m: temp_name,\n\u001b[32m   (...)\u001b[39m\u001b[32m    350\u001b[39m         \u001b[33m'\u001b[39m\u001b[33mtimeout\u001b[39m\u001b[33m'\u001b[39m: timeout,\n\u001b[32m    351\u001b[39m     }\n\u001b[32m--> \u001b[39m\u001b[32m353\u001b[39m     \u001b[43mrun_tesseract\u001b[49m\u001b[43m(\u001b[49m\u001b[43m*\u001b[49m\u001b[43m*\u001b[49m\u001b[43mkwargs\u001b[49m\u001b[43m)\u001b[49m\n\u001b[32m    354\u001b[39m     \u001b[38;5;28;01mreturn\u001b[39;00m _read_output(\n\u001b[32m    355\u001b[39m         \u001b[33mf\u001b[39m\u001b[33m\"\u001b[39m\u001b[38;5;132;01m{\u001b[39;00mkwargs[\u001b[33m'\u001b[39m\u001b[33moutput_filename_base\u001b[39m\u001b[33m'\u001b[39m]\u001b[38;5;132;01m}\u001b[39;00m\u001b[38;5;132;01m{\u001b[39;00mextsep\u001b[38;5;132;01m}\u001b[39;00m\u001b[38;5;132;01m{\u001b[39;00mextension\u001b[38;5;132;01m}\u001b[39;00m\u001b[33m\"\u001b[39m,\n\u001b[32m    356\u001b[39m         return_bytes,\n\u001b[32m    357\u001b[39m     )\n",
      "\u001b[36mFile \u001b[39m\u001b[32m~/Documents/projects/Aramco/testing/SyntheticQA/data_gen_env/lib/python3.11/site-packages/unstructured_pytesseract/pytesseract.py:282\u001b[39m, in \u001b[36mrun_tesseract\u001b[39m\u001b[34m(input_filename, output_filename_base, extension, lang, config, nice, timeout)\u001b[39m\n\u001b[32m    279\u001b[39m     \u001b[38;5;28;01melse\u001b[39;00m:\n\u001b[32m    280\u001b[39m         \u001b[38;5;28;01mraise\u001b[39;00m TesseractNotFoundError()\n\u001b[32m--> \u001b[39m\u001b[32m282\u001b[39m \u001b[43m\u001b[49m\u001b[38;5;28;43;01mwith\u001b[39;49;00m\u001b[43m \u001b[49m\u001b[43mtimeout_manager\u001b[49m\u001b[43m(\u001b[49m\u001b[43mproc\u001b[49m\u001b[43m,\u001b[49m\u001b[43m \u001b[49m\u001b[43mtimeout\u001b[49m\u001b[43m)\u001b[49m\u001b[43m \u001b[49m\u001b[38;5;28;43;01mas\u001b[39;49;00m\u001b[43m \u001b[49m\u001b[43merror_string\u001b[49m\u001b[43m:\u001b[49m\n\u001b[32m    283\u001b[39m \u001b[43m    \u001b[49m\u001b[38;5;28;43;01mif\u001b[39;49;00m\u001b[43m \u001b[49m\u001b[43mproc\u001b[49m\u001b[43m.\u001b[49m\u001b[43mreturncode\u001b[49m\u001b[43m:\u001b[49m\n\u001b[32m    284\u001b[39m \u001b[43m        \u001b[49m\u001b[38;5;28;43;01mraise\u001b[39;49;00m\u001b[43m \u001b[49m\u001b[43mTesseractError\u001b[49m\u001b[43m(\u001b[49m\u001b[43mproc\u001b[49m\u001b[43m.\u001b[49m\u001b[43mreturncode\u001b[49m\u001b[43m,\u001b[49m\u001b[43m \u001b[49m\u001b[43mget_errors\u001b[49m\u001b[43m(\u001b[49m\u001b[43merror_string\u001b[49m\u001b[43m)\u001b[49m\u001b[43m)\u001b[49m\n",
      "\u001b[36mFile \u001b[39m\u001b[32m/usr/local/Cellar/python@3.11/3.11.9_1/Frameworks/Python.framework/Versions/3.11/lib/python3.11/contextlib.py:137\u001b[39m, in \u001b[36m_GeneratorContextManager.__enter__\u001b[39m\u001b[34m(self)\u001b[39m\n\u001b[32m    135\u001b[39m \u001b[38;5;28;01mdel\u001b[39;00m \u001b[38;5;28mself\u001b[39m.args, \u001b[38;5;28mself\u001b[39m.kwds, \u001b[38;5;28mself\u001b[39m.func\n\u001b[32m    136\u001b[39m \u001b[38;5;28;01mtry\u001b[39;00m:\n\u001b[32m--> \u001b[39m\u001b[32m137\u001b[39m     \u001b[38;5;28;01mreturn\u001b[39;00m \u001b[38;5;28mnext\u001b[39m(\u001b[38;5;28mself\u001b[39m.gen)\n\u001b[32m    138\u001b[39m \u001b[38;5;28;01mexcept\u001b[39;00m \u001b[38;5;167;01mStopIteration\u001b[39;00m:\n\u001b[32m    139\u001b[39m     \u001b[38;5;28;01mraise\u001b[39;00m \u001b[38;5;167;01mRuntimeError\u001b[39;00m(\u001b[33m\"\u001b[39m\u001b[33mgenerator didn\u001b[39m\u001b[33m'\u001b[39m\u001b[33mt yield\u001b[39m\u001b[33m\"\u001b[39m) \u001b[38;5;28;01mfrom\u001b[39;00m\u001b[38;5;250m \u001b[39m\u001b[38;5;28;01mNone\u001b[39;00m\n",
      "\u001b[36mFile \u001b[39m\u001b[32m~/Documents/projects/Aramco/testing/SyntheticQA/data_gen_env/lib/python3.11/site-packages/unstructured_pytesseract/pytesseract.py:144\u001b[39m, in \u001b[36mtimeout_manager\u001b[39m\u001b[34m(proc, seconds)\u001b[39m\n\u001b[32m    142\u001b[39m \u001b[38;5;28;01mtry\u001b[39;00m:\n\u001b[32m    143\u001b[39m     \u001b[38;5;28;01mif\u001b[39;00m \u001b[38;5;129;01mnot\u001b[39;00m seconds:\n\u001b[32m--> \u001b[39m\u001b[32m144\u001b[39m         \u001b[38;5;28;01myield\u001b[39;00m \u001b[43mproc\u001b[49m\u001b[43m.\u001b[49m\u001b[43mcommunicate\u001b[49m\u001b[43m(\u001b[49m\u001b[43m)\u001b[49m[\u001b[32m1\u001b[39m]\n\u001b[32m    145\u001b[39m         \u001b[38;5;28;01mreturn\u001b[39;00m\n\u001b[32m    147\u001b[39m     \u001b[38;5;28;01mtry\u001b[39;00m:\n",
      "\u001b[36mFile \u001b[39m\u001b[32m/usr/local/Cellar/python@3.11/3.11.9_1/Frameworks/Python.framework/Versions/3.11/lib/python3.11/subprocess.py:1209\u001b[39m, in \u001b[36mPopen.communicate\u001b[39m\u001b[34m(self, input, timeout)\u001b[39m\n\u001b[32m   1206\u001b[39m     endtime = \u001b[38;5;28;01mNone\u001b[39;00m\n\u001b[32m   1208\u001b[39m \u001b[38;5;28;01mtry\u001b[39;00m:\n\u001b[32m-> \u001b[39m\u001b[32m1209\u001b[39m     stdout, stderr = \u001b[38;5;28;43mself\u001b[39;49m\u001b[43m.\u001b[49m\u001b[43m_communicate\u001b[49m\u001b[43m(\u001b[49m\u001b[38;5;28;43minput\u001b[39;49m\u001b[43m,\u001b[49m\u001b[43m \u001b[49m\u001b[43mendtime\u001b[49m\u001b[43m,\u001b[49m\u001b[43m \u001b[49m\u001b[43mtimeout\u001b[49m\u001b[43m)\u001b[49m\n\u001b[32m   1210\u001b[39m \u001b[38;5;28;01mexcept\u001b[39;00m \u001b[38;5;167;01mKeyboardInterrupt\u001b[39;00m:\n\u001b[32m   1211\u001b[39m     \u001b[38;5;66;03m# https://bugs.python.org/issue25942\u001b[39;00m\n\u001b[32m   1212\u001b[39m     \u001b[38;5;66;03m# See the detailed comment in .wait().\u001b[39;00m\n\u001b[32m   1213\u001b[39m     \u001b[38;5;28;01mif\u001b[39;00m timeout \u001b[38;5;129;01mis\u001b[39;00m \u001b[38;5;129;01mnot\u001b[39;00m \u001b[38;5;28;01mNone\u001b[39;00m:\n",
      "\u001b[36mFile \u001b[39m\u001b[32m/usr/local/Cellar/python@3.11/3.11.9_1/Frameworks/Python.framework/Versions/3.11/lib/python3.11/subprocess.py:2115\u001b[39m, in \u001b[36mPopen._communicate\u001b[39m\u001b[34m(self, input, endtime, orig_timeout)\u001b[39m\n\u001b[32m   2108\u001b[39m     \u001b[38;5;28mself\u001b[39m._check_timeout(endtime, orig_timeout,\n\u001b[32m   2109\u001b[39m                         stdout, stderr,\n\u001b[32m   2110\u001b[39m                         skip_check_and_raise=\u001b[38;5;28;01mTrue\u001b[39;00m)\n\u001b[32m   2111\u001b[39m     \u001b[38;5;28;01mraise\u001b[39;00m \u001b[38;5;167;01mRuntimeError\u001b[39;00m(  \u001b[38;5;66;03m# Impossible :)\u001b[39;00m\n\u001b[32m   2112\u001b[39m         \u001b[33m'\u001b[39m\u001b[33m_check_timeout(..., skip_check_and_raise=True) \u001b[39m\u001b[33m'\u001b[39m\n\u001b[32m   2113\u001b[39m         \u001b[33m'\u001b[39m\u001b[33mfailed to raise TimeoutExpired.\u001b[39m\u001b[33m'\u001b[39m)\n\u001b[32m-> \u001b[39m\u001b[32m2115\u001b[39m ready = \u001b[43mselector\u001b[49m\u001b[43m.\u001b[49m\u001b[43mselect\u001b[49m\u001b[43m(\u001b[49m\u001b[43mtimeout\u001b[49m\u001b[43m)\u001b[49m\n\u001b[32m   2116\u001b[39m \u001b[38;5;28mself\u001b[39m._check_timeout(endtime, orig_timeout, stdout, stderr)\n\u001b[32m   2118\u001b[39m \u001b[38;5;66;03m# XXX Rewrite these to use non-blocking I/O on the file\u001b[39;00m\n\u001b[32m   2119\u001b[39m \u001b[38;5;66;03m# objects; they are no longer using C stdio!\u001b[39;00m\n",
      "\u001b[36mFile \u001b[39m\u001b[32m/usr/local/Cellar/python@3.11/3.11.9_1/Frameworks/Python.framework/Versions/3.11/lib/python3.11/selectors.py:415\u001b[39m, in \u001b[36m_PollLikeSelector.select\u001b[39m\u001b[34m(self, timeout)\u001b[39m\n\u001b[32m    413\u001b[39m ready = []\n\u001b[32m    414\u001b[39m \u001b[38;5;28;01mtry\u001b[39;00m:\n\u001b[32m--> \u001b[39m\u001b[32m415\u001b[39m     fd_event_list = \u001b[38;5;28mself\u001b[39m._selector.poll(timeout)\n\u001b[32m    416\u001b[39m \u001b[38;5;28;01mexcept\u001b[39;00m \u001b[38;5;167;01mInterruptedError\u001b[39;00m:\n\u001b[32m    417\u001b[39m     \u001b[38;5;28;01mreturn\u001b[39;00m ready\n",
      "\u001b[31mKeyboardInterrupt\u001b[39m: "
     ]
    }
   ],
   "source": [
    "from langchain_core.documents import Document\n",
    "\n",
    "text_documents = []\n",
    "table_documents = []\n",
    "raw_pdf_elements = extract_pdf(filename)\n",
    "for document in raw_pdf_elements:\n",
    "    if document.category == 'Table':\n",
    "        #transform table documents into langchain documents\n",
    "        table_documents.append(Document(page_content=document.metadata.text_as_html))\n",
    "    else:\n",
    "        if document.metadata.text_as_html is not None:\n",
    "                table_documents.append(Document(page_content=document.metadata.text_as_html))\n",
    "        else:\n",
    "            text_documents.append(Document(page_content=document.text))\n",
    "\n",
    "print(len(table_documents))        \n",
    "print(len(text_documents))\n",
    "documents = text_documents + table_documents"
   ]
  },
  {
   "cell_type": "markdown",
   "metadata": {},
   "source": [
    "## Generate QA pairs\n",
    "\n",
    "With our granular documents ready, we can use a Large Language Model (LLM) to create QA pairs. Consider the following:\n",
    "\n",
    "- Depending on the dataset's purpose, you may want the model to include references used to generate the answer.\n",
    "- You might want the model to include reasoning steps from context to answer. A good strategy for this is [Chain of Thought (CoT)](https://www.promptingguide.ai/techniques/cot).\n",
    "- The model should generate a structured output from which we can extract the question, the thought process, the answer, and the references\n",
    "\n",
    "First, we'll define the schema for the QA data."
   ]
  },
  {
   "cell_type": "code",
   "execution_count": null,
   "metadata": {},
   "outputs": [],
   "source": [
    "from langchain_core.output_parsers import JsonOutputParser\n",
    "from langchain_core.prompts import ChatPromptTemplate\n",
    "from pydantic import BaseModel, Field\n",
    "import json\n",
    "\n",
    "class SyntheticDatum(BaseModel):\n",
    "    \"\"\"Model of a synthetic generated datum\"\"\"\n",
    "    question: str = Field(description='generated question')\n",
    "    answer: str = Field(description='generated answer')\n",
    "    references: list[str] = Field(description='references for generated answer')\n",
    "    thought: str = Field(description='thought for answer generation')\n",
    "\n",
    "\n",
    "class SyntheticData(BaseModel):\n",
    "    \"\"\"Model of a synthetic data generation\"\"\"\n",
    "    data: list[SyntheticDatum] = Field(description='synthetic data pairs')    "
   ]
  },
  {
   "cell_type": "markdown",
   "metadata": {},
   "source": [
    "We will define a prompt instructing the model to generate QA pairs using the provided document and the specified number of QA pairs. The prompt will ask the model to generate a list of JSON objects containing the question, thought process, answer, and references."
   ]
  },
  {
   "cell_type": "code",
   "execution_count": null,
   "metadata": {},
   "outputs": [],
   "source": [
    "prompt = ChatPromptTemplate([\n",
    "        (\"system\", \"You are a JSON generator who generates machine-readable JSON\"),\n",
    "        (\"human\", \"\"\"\n",
    "            Based on the following document, follow the instruction below\n",
    "            Document:\n",
    "            {document}\n",
    "            Instruction:\n",
    "            Generate {amount} of unique question, thought, answer, and references from the above document in the following JSON format. \n",
    "            The answers must avoid words that are not specific (e.g., \"many\", \"several\", \"few\", etc.). \n",
    "            The answers must contain specific, verbose, self-contained, grammatically correct sentences that answer the question comprehensively. \n",
    "            The answers must strictly contain content from the document and no content from outside the document. \n",
    "            There may be multiple references that contain verbatim text from the document to support the answers.             \n",
    "            JSON format:\n",
    "            [\n",
    "                {{\n",
    "                    \"question\": \"<generated question>\",            \n",
    "                    \"thought\": \"<generated thought on what is needed to answer the question. Start with 'To answer the question, I need'>\",\n",
    "                    \"answer\": \"<generated answer>\",\n",
    "                    \"references\": [\n",
    "                        \"<verbatim text from document that supports the answer>\",\n",
    "                        \"<verbatim text from document that supports the answer>\"\n",
    "                    ]\n",
    "                }}\n",
    "            ]\n",
    "            The first character of the response must be '[' and the last character must be ']'. No header text should be included.\n",
    "            \"\"\"\n",
    "        )\n",
    "    ]\n",
    ")\n"
   ]
  },
  {
   "cell_type": "markdown",
   "metadata": {},
   "source": [
    "With the prompt defined, we can create a method to instantiate a LangChain chain, pass the input arguments (the context document and the number of QA pairs to generate), and process the model's response using the defined QA data schemas."
   ]
  },
  {
   "cell_type": "code",
   "execution_count": null,
   "metadata": {},
   "outputs": [],
   "source": [
    "def generate_qa_pairs(context, amount, include_context = False, include_thoughts = False, include_references = False):\n",
    "    \"\"\"Generate synthetic QA pairs from a given context using a LangChain chain.\n",
    "\n",
    "    Args:\n",
    "        context (str): The source text to generate questions and answers from.\n",
    "        amount (int): Number of QA pairs to generate.\n",
    "        include_context (bool): Whether to include the original context in each output entry.\n",
    "        include_thoughts (bool): Whether to include model 'thoughts' in each QA pair.\n",
    "        include_references (bool): Whether to include reference sources in each QA pair.\n",
    "\n",
    "    Returns:\n",
    "        List[dict]: A list of dictionaries containing QA pairs (and optional metadata).\n",
    "    \"\"\"\n",
    "\n",
    "    synthetic_datum_parser = JsonOutputParser(pydantic_object=SyntheticData)\n",
    "    qa_generate_chain = prompt | llm | synthetic_datum_parser\n",
    "    qa_pairs = []\n",
    "    generation = qa_generate_chain.invoke({'document': context, 'amount': amount})\n",
    "    for datum in generation:\n",
    "        qa_pair = {\n",
    "            'question': datum['question'],\n",
    "            'context': context if include_context else None,\n",
    "            'answer': datum['answer'],\n",
    "            'thought': datum['thought'] if include_thoughts else None,\n",
    "            'references': datum['references'] if include_references else None,\n",
    "        }\n",
    "        qa_pair = {k: v for k, v in qa_pair.items() if v is not None}\n",
    "        qa_pairs.append(qa_pair)\n",
    "    return qa_pairs"
   ]
  },
  {
   "cell_type": "markdown",
   "metadata": {},
   "source": [
    "Here is an example where we create a series of synthetic data pairs, including the original context (useful for training models for Retrieval-Augmented Generation (RAG) applications)."
   ]
  },
  {
   "cell_type": "code",
   "execution_count": null,
   "metadata": {},
   "outputs": [
    {
     "data": {
      "text/plain": [
       "[{'question': 'What are the largest living land animals?',\n",
       "  'context': 'Elephants are the largest living land animals. \\nThree living species are currently recognised:\\nthe African bush elephant (Loxodonta africana),\\nthe African forest elephant (L. cyclotis), and the Asian elephant (Elephas maximus). \\nThey are the only surviving members of the family Elephantidae and the order Proboscidea;\\nextinct relatives include mammoths and mastodons.',\n",
       "  'answer': 'Elephants are the largest living land animals.',\n",
       "  'thought': 'To answer the question, I need to identify the type of animal that is described as the largest living land animal in the document.',\n",
       "  'references': ['Elephants are the largest living land animals.']},\n",
       " {'question': 'How many living species of elephants are currently recognised?',\n",
       "  'context': 'Elephants are the largest living land animals. \\nThree living species are currently recognised:\\nthe African bush elephant (Loxodonta africana),\\nthe African forest elephant (L. cyclotis), and the Asian elephant (Elephas maximus). \\nThey are the only surviving members of the family Elephantidae and the order Proboscidea;\\nextinct relatives include mammoths and mastodons.',\n",
       "  'answer': 'Three living species of elephants are currently recognised, which include the African bush elephant, the African forest elephant, and the Asian elephant.',\n",
       "  'thought': 'To answer the question, I need to find the information about the number of living species of elephants that are currently recognised in the document.',\n",
       "  'references': ['Three living species are currently recognised:',\n",
       "   'the African bush elephant (Loxodonta africana), the African forest elephant (L. cyclotis), and the Asian elephant (Elephas maximus).']},\n",
       " {'question': 'What family do elephants belong to?',\n",
       "  'context': 'Elephants are the largest living land animals. \\nThree living species are currently recognised:\\nthe African bush elephant (Loxodonta africana),\\nthe African forest elephant (L. cyclotis), and the Asian elephant (Elephas maximus). \\nThey are the only surviving members of the family Elephantidae and the order Proboscidea;\\nextinct relatives include mammoths and mastodons.',\n",
       "  'answer': 'Elephants are the only surviving members of the family Elephantidae.',\n",
       "  'thought': 'To answer the question, I need to identify the family that elephants are classified under according to the document.',\n",
       "  'references': ['They are the only surviving members of the family Elephantidae and the order Proboscidea;']},\n",
       " {'question': 'What order do elephants belong to?',\n",
       "  'context': 'Elephants are the largest living land animals. \\nThree living species are currently recognised:\\nthe African bush elephant (Loxodonta africana),\\nthe African forest elephant (L. cyclotis), and the Asian elephant (Elephas maximus). \\nThey are the only surviving members of the family Elephantidae and the order Proboscidea;\\nextinct relatives include mammoths and mastodons.',\n",
       "  'answer': 'Elephants are the only surviving members of the order Proboscidea.',\n",
       "  'thought': 'To answer the question, I need to find the information about the order that elephants are classified under in the document.',\n",
       "  'references': ['They are the only surviving members of the family Elephantidae and the order Proboscidea;']},\n",
       " {'question': 'What are some extinct relatives of elephants?',\n",
       "  'context': 'Elephants are the largest living land animals. \\nThree living species are currently recognised:\\nthe African bush elephant (Loxodonta africana),\\nthe African forest elephant (L. cyclotis), and the Asian elephant (Elephas maximus). \\nThey are the only surviving members of the family Elephantidae and the order Proboscidea;\\nextinct relatives include mammoths and mastodons.',\n",
       "  'answer': 'Extinct relatives of elephants include mammoths and mastodons.',\n",
       "  'thought': 'To answer the question, I need to identify the extinct relatives of elephants that are mentioned in the document.',\n",
       "  'references': ['extinct relatives include mammoths and mastodons.']}]"
      ]
     },
     "execution_count": 9,
     "metadata": {},
     "output_type": "execute_result"
    }
   ],
   "source": [
    "sample_doc=\"\"\"Elephants are the largest living land animals. \n",
    "Three living species are currently recognised:\n",
    "the African bush elephant (Loxodonta africana),\n",
    "the African forest elephant (L. cyclotis), and the Asian elephant (Elephas maximus). \n",
    "They are the only surviving members of the family Elephantidae and the order Proboscidea;\n",
    "extinct relatives include mammoths and mastodons.\"\"\"\n",
    "\n",
    "generate_qa_pairs(sample_doc, 5, include_context = True, include_thoughts = True, include_references = True)"
   ]
  },
  {
   "cell_type": "markdown",
   "metadata": {},
   "source": [
    "## Generate full dataset\n",
    "\n",
    "We will create a simple method to convert each QA pair dictionary into a single string with the format required for the fine-tuning process. Then, we will iterate over each chunk of our source data."
   ]
  },
  {
   "cell_type": "code",
   "execution_count": null,
   "metadata": {},
   "outputs": [],
   "source": [
    "def qa_pairs_to_prompt_completion(qa_pairs):\n",
    "    \"\"\"Converts QA pair dictionaries into prompt-completion strings formatted for fine-tuning.\n",
    "\n",
    "    Args:\n",
    "        qa_pairs (Union[dict, List[dict]]): A single QA pair or a list of QA pairs.\n",
    "\n",
    "    Returns:\n",
    "        List[str]: A list of JSON-formatted strings, each representing a prompt-completion example.\n",
    "    \"\"\"\n",
    "    # Ensure input is a list of QA pairs\n",
    "    if isinstance(qa_pairs, dict):\n",
    "        qa_pairs = [qa_pairs]\n",
    "    \n",
    "    lines = []\n",
    "    \n",
    "    for pair in qa_pairs:\n",
    "        #line = {'prompt': f'{\"You are a helpful assistant for question-answering tasks.\"}{pair[\"question\"]}', 'completion': ''}\n",
    "        line = {'prompt': f'{pair[\"question\"]}', 'completion': ''}\n",
    "\n",
    "        # Optionally include context if available \n",
    "        if pair.get('context'):\n",
    "            line['prompt'] += f'\\nContext: {pair[\"context\"]}\\n'\n",
    "        \n",
    "        # Optionally include the model's \"thoughts\" before the answer\n",
    "        if pair.get('thought'):\n",
    "            line['completion'] += f'Thought: {pair[\"thought\"]}\\n'\n",
    "        \n",
    "        # Append the answer directly to the completion\n",
    "        line['completion'] += f'Answer: {pair[\"answer\"]}\\n'\n",
    "\n",
    "        # Optionally include references at the end\n",
    "        if pair.get('references'):\n",
    "            line['completion'] += f'References: {pair[\"references\"]}\\n'\n",
    "        \n",
    "        # Convert the prompt-completion pair to a JSONL line\n",
    "        lines.append(json.dumps(line))\n",
    "    return lines"
   ]
  },
  {
   "cell_type": "code",
   "execution_count": null,
   "metadata": {},
   "outputs": [
    {
     "data": {
      "text/plain": [
       "['{\"prompt\": \"What was Aramco\\'s net income in the third quarter of 2024?\", \"completion\": \"Answer: Aramco\\'s net income in the third quarter of 2024 was $27.6 billion, which is lower than the $32.6 billion reported in the third quarter of 2023.\\\\n\"}',\n",
       " '{\"prompt\": \"How much did Aramco spend on capital expenditures in the third quarter of 2024?\", \"completion\": \"Answer: Aramco\\'s capital expenditures in the third quarter of 2024 totaled $13.2 billion, which supports the company\\'s long-term strategic growth.\\\\n\"}',\n",
       " '{\"prompt\": \"What was the outcome of Aramco\\'s $3.0 billion international sukuk issuance?\", \"completion\": \"Answer: The $3.0 billion international sukuk issuance by Aramco was met with strong demand, which further diversifies the company\\'s investor base and enhances its liquidity profile.\\\\n\"}',\n",
       " '{\"prompt\": \"What is the current status of Aramco\\'s renewables program?\", \"completion\": \"Answer: Aramco\\'s renewables program is progressing, with the financial close achieved for three solar PV projects that have an anticipated combined capacity of 5.5 GW.\\\\n\"}',\n",
       " '{\"prompt\": \"What is Aramco\\'s strategy for future growth and development?\", \"completion\": \"Answer: Aramco intends to maintain its positive momentum and cement its position as a leading global energy and petrochemicals player by focusing on strategic growth opportunities and capturing value through integration and diversification.\\\\n\"}',\n",
       " '{\"prompt\": \"What was the total declared dividends for the third quarter?\", \"completion\": \"Answer: The total declared dividends for the third quarter were SAR 116.5 billion, which is equivalent to $31.1 billion.\\\\n\"}',\n",
       " '{\"prompt\": \"What was the capital expenditures for the quarter?\", \"completion\": \"Answer: The capital expenditures for the quarter were SAR 49.6 billion, which is equivalent to $13.2 billion.\\\\n\"}',\n",
       " '{\"prompt\": \"What is the forecast for crude oil demand in 2024?\", \"completion\": \"Answer: Crude oil demand is forecasted to reach record levels in 2024.\\\\n\"}',\n",
       " '{\"prompt\": \"What is the year-to-date capital expenditures?\", \"completion\": \"Answer: The year-to-date capital expenditures were SAR 135.7 billion, which is equivalent to $36.2 billion.\\\\n\"}',\n",
       " '{\"prompt\": \"What is the base dividend declared by the Board for the third quarter?\", \"completion\": \"Answer: The base dividend declared by the Board for the third quarter was SAR 76.1 billion, which is equivalent to $20.3 billion.\\\\n\"}',\n",
       " '{\"prompt\": \"What was the total hydrocarbon production of Aramco in the third quarter of 2024?\", \"completion\": \"Answer: Aramco achieved a total hydrocarbon production of 12.7 mmboed in the third quarter of 2024.\\\\n\"}',\n",
       " '{\"prompt\": \"What is the expected production capacity of the Marjan crude oil increment?\", \"completion\": \"Answer: The Marjan crude oil increment is expected to add a production capacity of 300 mbpd when it comes onstream in 2025.\\\\n\"}',\n",
       " '{\"prompt\": \"What was the total amount raised by Aramco\\'s international bond offering in July 2024?\", \"completion\": \"Answer: Aramco\\'s international bond offering in July 2024 raised a total of SAR 22.5 billion ($6.0 billion).\\\\n\"}',\n",
       " '{\"prompt\": \"What is the purpose of the proceeds from Aramco\\'s sukuk issuance?\", \"completion\": \"Answer: The proceeds from the sukuk issuance will be utilized for general corporate purposes.\\\\n\"}',\n",
       " '{\"prompt\": \"What is the expected additional crude oil production capacity of the Dammam development project\\'s phase two?\", \"completion\": \"Answer: The Dammam development project\\'s phase two is expected to add an additional 50 mpbd of crude oil production capacity in 2027.\\\\n\"}',\n",
       " '{\"prompt\": \"What is the expected production capacity of the Zuluf oil increment project?\", \"completion\": \"Answer: The Zuluf oil increment project is expected to process 600 mbpd of crude oil from the Zuluf field in 2026.\\\\n\"}',\n",
       " '{\"prompt\": \"What is the expected production rate of the Jafurah Gas Plant?\", \"completion\": \"Answer: Production from Jafurah is expected to reach a sustainable sales gas rate of 2.0 bscfd by 2030, in addition to significant volumes of ethane, NGL, and condensate.\\\\n\"}',\n",
       " '{\"prompt\": \"What is the expected additional raw gas processing capacity of the Tanajib Gas Plant?\", \"completion\": \"Answer: The Tanajib Gas Plant is expected to add 2.6 bscfd of additional raw gas processing capacity from the Marjan and Zuluf fields.\\\\n\"}',\n",
       " '{\"prompt\": \"What is the capacity of the Hawiyah Unayzah Gas Reservoir Storage?\", \"completion\": \"Answer: The Hawiyah Unayzah Gas Reservoir Storage can provide up to 2.0 bscfd of natural gas for reproduction into the Master Gas System based on demand.\\\\n\"}',\n",
       " '{\"prompt\": \"What is the result of Aramco\\'s investment in MidOcean?\", \"completion\": \"Answer: Aramco\\'s investment in MidOcean resulted in MidOcean Energy increasing its stake in Peru LNG from 20% to 35% through the acquisition of an additional 15% interest.\\\\n\"}',\n",
       " '{\"prompt\": \"What percentage of Aramco\\'s crude oil production was utilized by Downstream in the first nine months of the year?\", \"completion\": \"Answer: Downstream utilized approximately 53% of Aramco\\'s crude oil production in the first nine months of the year.\\\\n\"}',\n",
       " '{\"prompt\": \"What is the expected outcome of the agreement between Aramco and Sumitomo Chemical regarding Petro Rabigh?\", \"completion\": \"Answer: Upon completion of the transaction, Aramco will become Petro Rabigh\\'s largest shareholder with an equity stake of approximately 60%, while Sumitomo Chemical will retain an equity stake of 15%.\\\\n\"}',\n",
       " '{\"prompt\": \"What is the expected sales proceeds from the sale of SABIC\\'s stake in ALBA to Ma\\'aden?\", \"completion\": \"Answer: The expected sales proceeds from the sale of SABIC\\'s 20.62% stake in ALBA to Ma\\'aden is approximately SAR 3.62 billion ($0.96 billion).\\\\n\"}',\n",
       " '{\"prompt\": \"What is the progress at the Amiral complex, and what is the expected outcome of the cogeneration plant?\", \"completion\": \"Answer: Progress continued at the Amiral complex, a future world-scale petrochemicals facility expansion at the SATORP refinery in the Kingdom, and a financial closing between TAQA and JERA has been completed for a cogeneration plant that is expected to supply up to 475 megawatts of electricity and approximately 452 tonnes per hour of steam using advanced combined cycle gas-fired technology.\\\\n\"}',\n",
       " '{\"prompt\": \"What is the supply reliability of Aramco\\'s Downstream operations in the third quarter?\", \"completion\": \"Answer: Aramco maintained its remarkable reputation for dependable operations with a supply reliability of 99.8% in the third quarter.\\\\n\"}',\n",
       " '{\"prompt\": \"What are the four sustainability focus areas that Aramco is advancing?\", \"completion\": \"Answer: Aramco is advancing its four sustainability focus areas, including climate change and the energy transition, although the document does not explicitly mention all four areas.\\\\n\"}',\n",
       " '{\"prompt\": \"What is the total worth of the three solar photovoltaic projects announced by SAPCO and its partners?\", \"completion\": \"Answer: The three solar photovoltaic projects announced by SAPCO and its partners are worth SAR 12.0 billion, which is equivalent to $3.2 billion.\\\\n\"}',\n",
       " '{\"prompt\": \"What are the planned production capacities of the Haden and Muwayh projects?\", \"completion\": \"Answer: The Haden and Muwayh projects in Makkah province each have a planned production capacity of 2.0 GW, referring to AC production capacity.\\\\n\"}',\n",
       " '{\"prompt\": \"What is the planned production capacity of the Al-Khushaybi project?\", \"completion\": \"Answer: The Al-Khushaybi project in Qassim province has a planned production capacity of 1.5 GW.\\\\n\"}',\n",
       " '{\"prompt\": \"Who are the partners of SAPCO in the three solar photovoltaic projects?\", \"completion\": \"Answer: The partners of SAPCO in the three solar photovoltaic projects are ACWA Power and PIF.\\\\n\"}',\n",
       " '{\"prompt\": \"When are the commercial operations of the projects, for which SAPCO holds a 30% ownership, expected to commence?\", \"completion\": \"Answer: The commercial operations of the projects, for which SAPCO holds a 30% ownership, are expected to commence in Q1 2027.\\\\n\"}',\n",
       " '{\"prompt\": \"What is the primary objective of the strategic collaboration between Aramco and China National Building Material Group Co., Ltd.?\", \"completion\": \"Answer: The strategic collaboration between Aramco and China National Building Material Group Co., Ltd. aims to capitalize on respective areas of expertise to support Aramco\\\\u2019s efforts to grow manufacturing capabilities in Saudi Arabia, and advance the materials transition.\\\\n\"}',\n",
       " '{\"prompt\": \"What products are expected to be manufactured in the Kingdom as part of the strategic collaboration between Aramco and China National Building Material Group Co., Ltd.?\", \"completion\": \"Answer: The products expected to be manufactured in the Kingdom as part of the strategic collaboration include wind turbine blades, hydrogen storage tanks, lower-carbon building materials, and energy storage solutions.\\\\n\"}',\n",
       " '{\"prompt\": \"Who is the primary off-taker for the commercial operations of the projects, for which SAPCO holds a 30% ownership?\", \"completion\": \"Answer: The Saudi Power Procurement Company is the primary off-taker for the commercial operations of the projects, for which SAPCO holds a 30% ownership.\\\\n\"}',\n",
       " '{\"prompt\": \"What is the duration of the Cooperation Framework Agreement between Aramco and China National Building Material Group Co., Ltd.?\", \"completion\": \"Answer: The Cooperation Framework Agreement between Aramco and China National Building Material Group Co., Ltd. is a five-year agreement.\\\\n\"}',\n",
       " '{\"prompt\": \"When did the committee appointments commence?\", \"completion\": \"Answer: The committee appointments commenced on August 4, 2024.\\\\n\"}',\n",
       " '{\"prompt\": \"Who chairs each of the Board committees?\", \"completion\": \"Answer: Each committee is chaired by an independent non-executive director.\\\\n\"}',\n",
       " '{\"prompt\": \"What are the names of the Board committees mentioned in the document?\", \"completion\": \"Answer: The Board committees mentioned in the document are the Audit Committee, Nomination Committee, Compensation Committee, and Sustainability, Risk and Health, Safety, and Environment Committee.\\\\n\"}',\n",
       " '{\"prompt\": \"In which month did the Board of Directors appoint the chairs and members of its Board committees?\", \"completion\": \"Answer: The Board of Directors appointed the chairs and members of its Board committees in August.\\\\n\"}',\n",
       " '{\"prompt\": \"What is the title of the report that contains the information about the committee appointments?\", \"completion\": \"Answer: The title of the report is \\'Third quarter and nine months interim report 2024\\'.\\\\n\"}',\n",
       " '{\"prompt\": \"What are the primary drivers of Aramco\\'s results of operations and cash flows?\", \"completion\": \"Answer: Aramco\\'s results of operations and cash flows are primarily driven by market prices and volumes sold of hydrocarbons as well as refined and chemicals products.\\\\n\"}',\n",
       " '{\"prompt\": \"How did the income taxes and zakat for the third quarter of 2024 compare to the same quarter in 2023?\", \"completion\": \"Answer: The income taxes and zakat for the third quarter of 2024 was SAR 91,750 ($24,467), which is lower than the SAR 116,185 ($30,983) for the same quarter in 2023, primarily due to lower earnings in the third quarter of 2024.\\\\n\"}',\n",
       " '{\"prompt\": \"What was the total amount of dividend payments made by Aramco during the three months ended September 30, 2024?\", \"completion\": \"Answer: The total amount of dividend payments made by Aramco during the three months ended September 30, 2024, was SAR 116.5 billion ($31.1 billion), which includes the base dividends of SAR 76.1 billion ($20.3 billion) and the fifth performance-linked dividend of SAR 40.4 billion ($10.8 billion).\\\\n\"}',\n",
       " '{\"prompt\": \"Why did Aramco\\'s income taxes and zakat decrease in the third quarter of 2024 compared to the same quarter in 2023?\", \"completion\": \"Answer: The decrease in income taxes and zakat in the third quarter of 2024 compared to the same quarter in 2023 primarily reflects lower earnings in the third quarter of 2024.\\\\n\"}',\n",
       " '{\"prompt\": \"What is Aramco\\'s commitment regarding dividend payments to its shareholders?\", \"completion\": \"Answer: Aramco is committed to delivering value to shareholders and sharing in the upside of its strong performance, as reflected in the total dividend payments of SAR 116.5 billion ($31.1 billion) made during the three months ended September 30, 2024.\\\\n\"}',\n",
       " '{\"prompt\": \"What was the expected sales proceeds from the agreement to sell 20.62% shareholding in ALBA to Ma\\\\u2019aden?\", \"completion\": \"Answer: The expected sales proceeds from the agreement to sell 20.62% shareholding in ALBA to Ma\\\\u2019aden was approximately SAR 3.62 billion ($0.96 billion).\\\\n\"}',\n",
       " '{\"prompt\": \"What was the amount of the loan receivable and accrued commissions that were waived as a result of the initial waiver agreement between Aramco and Sumitomo Chemical?\", \"completion\": \"Answer: The amount of the loan receivable and accrued commissions that were waived as a result of the initial waiver agreement between Aramco and Sumitomo Chemical was SAR 1.9 billion ($0.5 billion).\\\\n\"}',\n",
       " '{\"prompt\": \"What was the total amount of the USD-denominated senior unsecured notes issued by the Company in July?\", \"completion\": \"Answer: The total amount of the USD-denominated senior unsecured notes issued by the Company in July was an equivalent of SAR 22.5 billion ($6.0 billion).\\\\n\"}',\n",
       " '{\"prompt\": \"What was the carrying amount of the equity investment in ALBA that was reclassified as held for sale?\", \"completion\": \"Answer: The carrying amount of the equity investment in ALBA that was reclassified as held for sale was SAR 3.3 billion ($0.9 billion).\\\\n\"}',\n",
       " '{\"prompt\": \"What was the amount of the phased waiver of shareholder loans agreed upon by Aramco and Sumitomo Chemical?\", \"completion\": \"Answer: The amount of the phased waiver of shareholder loans agreed upon by Aramco and Sumitomo Chemical was approximately SAR 2.8 billion ($0.75 billion) each.\\\\n\"}',\n",
       " '{\"prompt\": \"What was the income before income taxes and zakat for the third quarter of 2024?\", \"completion\": \"Answer: The income before income taxes and zakat for the third quarter of 2024 was SAR 195,115, which is equivalent to $52,031.\\\\n\"}',\n",
       " '{\"prompt\": \"What was the main reason for the decrease in income before income taxes and zakat?\", \"completion\": \"Answer: The decrease in income before income taxes and zakat was mainly due to the impact of lower crude oil prices and weakening refining margins.\\\\n\"}',\n",
       " '{\"prompt\": \"How did the reduction in selling, administrative, and general expenses affect the income before income taxes and zakat?\", \"completion\": \"Answer: The reduction in selling, administrative, and general expenses, primarily driven by a gain from derivative instruments, partially offset the decrease in income before income taxes and zakat.\\\\n\"}',\n",
       " '{\"prompt\": \"What was the effect of lower crude oil prices on production royalties?\", \"completion\": \"Answer: Lower crude oil prices led to a decrease in production royalties, which also reflected a lower average effective royalty rate compared to the same quarter last year.\\\\n\"}',\n",
       " '{\"prompt\": \"How did the income before income taxes and zakat for the third quarter of 2024 compare to the same quarter in 2023?\", \"completion\": \"Answer: The income before income taxes and zakat for the third quarter of 2024, which was SAR 195,115 ($52,031), was lower than the income for the same quarter in 2023, which was SAR 238,373 ($63,566).\\\\n\"}',\n",
       " '{\"prompt\": \"What was the income before income taxes and zakat for the nine months of 2024?\", \"completion\": \"Answer: The income before income taxes and zakat for the nine months of 2024 was SAR 609,733 ($162,596).\\\\n\"}',\n",
       " '{\"prompt\": \"What was the primary reason for the decrease in income before income taxes and zakat for the nine months of 2024?\", \"completion\": \"Answer: The decrease was primarily a result of lower crude oil volumes sold, weakening refining margins, and lower finance and other income.\\\\n\"}',\n",
       " '{\"prompt\": \"How did the income taxes and zakat for the nine months of 2024 compare to the same period in 2023?\", \"completion\": \"Answer: The income taxes and zakat for the nine months of 2024 was SAR 295,087 ($78,690), which is lower than the SAR 330,498 ($88,133) for the same period in 2023.\\\\n\"}',\n",
       " '{\"prompt\": \"What was the main reason for the decrease in income taxes and zakat for the nine months of 2024?\", \"completion\": \"Answer: The decrease was mainly a result of lower earnings in the first nine months of 2024.\\\\n\"}',\n",
       " '{\"prompt\": \"Where can one find information on non-IFRS measures?\", \"completion\": \"Answer: For non-IFRS measures, one can refer to the Non-IFRS measures reconciliations and definitions section.\\\\n\"}',\n",
       " '{\"prompt\": \"What was the EBIT for the third quarter of 2024 and how did it compare to the same quarter in 2023?\", \"completion\": \"Answer: The EBIT for the third quarter of 2024 was SAR 198,076, which is lower than the EBIT for the same quarter in 2023, which was SAR 227,371, primarily due to lower crude oil prices and lower crude oil volumes sold, partially offset by a decrease in production royalties.\\\\n\"}',\n",
       " '{\"prompt\": \"What was the capital expenditure for the third quarter of 2024 and how did it compare to the same period in 2023?\", \"completion\": \"Answer: The capital expenditure for the third quarter of 2024 was SAR 39,749, which is an increase of 18.0% compared to the capital expenditure for the same period in 2023, which was SAR 33,693.\\\\n\"}',\n",
       " '{\"prompt\": \"What was the main reason for the decrease in EBIT for the third quarter of 2024 compared to the same quarter in 2023?\", \"completion\": \"Answer: The main reason for the decrease in EBIT for the third quarter of 2024 compared to the same quarter in 2023 was lower crude oil prices and lower crude oil volumes sold, partially offset by a decrease in production royalties.\\\\n\"}',\n",
       " '{\"prompt\": \"What was the reason for the increase in capital expenditures for the third quarter of 2024 compared to the same period in 2023?\", \"completion\": \"Answer: The reason for the increase in capital expenditures for the third quarter of 2024 compared to the same period in 2023 was mainly due to advancements in crude oil increments aimed at maintaining an MSC of 12.0 mmbpd and increased development activity to support strategic expansion of the Company\\\\u2019s gas business.\\\\n\"}',\n",
       " '{\"prompt\": \"What was the EBIT for the third quarter of 2024 in US dollars?\", \"completion\": \"Answer: The EBIT for the third quarter of 2024 was $52,820.\\\\n\"}',\n",
       " '{\"prompt\": \"What was the total EBIT for the first nine months of 2024?\", \"completion\": \"Answer: The total EBIT for the first nine months of 2024 was SAR 612,511, which is equivalent to $163,336.\\\\n\"}',\n",
       " '{\"prompt\": \"What caused the reduction in EBIT for the first nine months of 2024 compared to the same period in 2023?\", \"completion\": \"Answer: The reduction in EBIT for the first nine months of 2024 was largely due to lower crude oil volumes sold, which was partially offset by decreased production royalties.\\\\n\"}',\n",
       " '{\"prompt\": \"What was the amount of capital expenditures for the first nine months of 2024?\", \"completion\": \"Answer: The capital expenditures for the first nine months of 2024 were SAR 110,140, which is equivalent to $29,371.\\\\n\"}',\n",
       " '{\"prompt\": \"What was the percentage increase in capital expenditures for the first nine months of 2024 compared to the same period in 2023?\", \"completion\": \"Answer: The capital expenditures for the first nine months of 2024 increased by 21.9% compared to the same period in 2023.\\\\n\"}',\n",
       " '{\"prompt\": \"What were the primary factors that contributed to the increase in capital expenditures for the first nine months of 2024?\", \"completion\": \"Answer: The increase in capital expenditures for the first nine months of 2024 was primarily attributable to the progress of crude oil increments for maintaining crude oil MSC of 12.0 mmbpd and the advancement of multiple gas projects.\\\\n\"}',\n",
       " '{\"prompt\": \"What was the EBIT for the third quarter of 2024 and how did it compare to the same quarter in 2023?\", \"completion\": \"Answer: The EBIT for the third quarter of 2024 was a loss of SAR 6,675, which is a decrease compared to a profit of SAR 19,739 for the same quarter in 2023, predominantly driven by weakening refining margins, inventory valuation movement, and certain other non-cash charges.\\\\n\"}',\n",
       " '{\"prompt\": \"What was the EBIT for the first nine months of 2024 and how did it compare to the same period in 2023?\", \"completion\": \"Answer: The EBIT for the first nine months of 2024 was a loss of SAR 3,041, which is a decrease compared to a profit of SAR 35,525 for the same period in 2023, primarily attributed to weakening refining margins, inventory valuation movement, and certain other non-cash charges.\\\\n\"}',\n",
       " '{\"prompt\": \"What were the capital expenditures for the third quarter of 2024 and how did they compare to the same quarter in 2023?\", \"completion\": \"Answer: The capital expenditures for the third quarter of 2024 were SAR 9,466, which is an increase of 34.2% compared to SAR 7,056 for the third quarter in 2023, largely due to increased investment and expansion.\\\\n\"}',\n",
       " '{\"prompt\": \"What were the capital expenditures for the first nine months of 2024 and how did they compare to the same period in 2023?\", \"completion\": \"Answer: The capital expenditures for the first nine months of 2024 were SAR 23,841, which is an increase of 9.4% compared to SAR 21,783 for the same period in 2023, primarily due to increased investment and expansion.\\\\n\"}',\n",
       " '{\"prompt\": \"What factors contributed to the decrease in EBIT for the third quarter and the first nine months of 2024?\", \"completion\": \"Answer: The decrease in EBIT for both the third quarter and the first nine months of 2024 was predominantly driven by weakening refining margins, inventory valuation movement, and certain other non-cash charges.\\\\n\"}',\n",
       " '{\"prompt\": \"What is the purpose of including non-IFRS financial measures in the Interim Report?\", \"completion\": \"Answer: The non-IFRS financial measures have been included in this Interim Report to facilitate a better understanding of Aramco\\\\u2019s historical trends of operation and financial position.\\\\n\"}',\n",
       " '{\"prompt\": \"How does Aramco use non-IFRS financial measures?\", \"completion\": \"Answer: Aramco uses non-IFRS financial measures to make informed decisions about its financial position and operating performance or liquidity.\\\\n\"}',\n",
       " '{\"prompt\": \"What is the relationship between non-IFRS financial measures and IFRS?\", \"completion\": \"Answer: The non-IFRS financial measures are not defined by, or presented in accordance with, IFRS, and they are not measurements of Aramco\\\\u2019s operating performance or liquidity under IFRS.\\\\n\"}',\n",
       " '{\"prompt\": \"Can non-IFRS financial measures be used to predict future results?\", \"completion\": \"Answer: The non-IFRS financial measures are not intended to be predictive of future results.\\\\n\"}',\n",
       " '{\"prompt\": \"How do other companies calculate non-IFRS financial measures?\", \"completion\": \"Answer: Other companies, including those in Aramco\\\\u2019s industry, may calculate similarly titled non-IFRS financial measures differently from Aramco.\\\\n\"}',\n",
       " '{\"prompt\": \"What is the definition of free cash flow used by Aramco?\", \"completion\": \"Answer: Aramco defines free cash flow as net cash provided by operating activities less capital expenditures, which is used to evaluate its cash available for financing activities, including dividend payments.\\\\n\"}',\n",
       " '{\"prompt\": \"What was the free cash flow for the third quarter of 2024 and how did it compare to the same quarter in 2023?\", \"completion\": \"Answer: The free cash flow for the third quarter of 2024 was SAR 82,465 ($21,990), which represents an increase of SAR 6,185 ($1,649) compared to the same quarter in 2023, mainly due to higher operating cash flows as a result of favorable movements in working capital and a reduction in cash paid for the settlement of income, zakat and other taxes.\\\\n\"}',\n",
       " '{\"prompt\": \"What was the reason for the increase in capital expenditures in the third quarter of 2024?\", \"completion\": \"Answer: The capital expenditures increased by SAR 8,239 ($2,197) in the third quarter of 2024, largely due to advancements in crude oil increments aimed at maintaining an MSC of 12.0 mmbpd and increased development activity to support strategic expansion of the Company\\\\u2019s gas business.\\\\n\"}',\n",
       " '{\"prompt\": \"What was the free cash flow for the first nine months of 2024 and how did it compare to the same period in 2023?\", \"completion\": \"Answer: The free cash flow for the first nine months of 2024 was SAR 238,908 ($63,709), which represents a decrease of SAR 40,058 ($10,683) compared to the same period in 2023, largely due to lower operating cash flows as a result of lower earnings, partially offset by a reduction in cash paid for the settlement of income, zakat and other taxes and favorable movements in working capital.\\\\n\"}',\n",
       " '{\"prompt\": \"What was the reason for the increase in capital expenditures for the first nine months of 2024?\", \"completion\": \"Answer: The capital expenditures for the first nine months of 2024 increased by SAR 22,315 ($5,951), mainly due to the progress of crude oil increments related to maintaining crude oil MSC of 12.0 and advancement of multiple gas projects.\\\\n\"}',\n",
       " '{\"prompt\": \"What was the net income in SAR for 2024 and 2023?\", \"completion\": \"Answer: The net income in SAR for 2024 was 103,365 and for 2023 was 122,188.\\\\n\"}',\n",
       " '{\"prompt\": \"What was the average realized crude oil price in USD per barrel for 2024 and 2023?\", \"completion\": \"Answer: The average realized crude oil price in USD per barrel for 2024 was 79.3 and for 2023 was 89.3.\\\\n\"}',\n",
       " '{\"prompt\": \"What were the capital expenditures in SAR and USD for 2024?\", \"completion\": \"Answer: The capital expenditures in SAR for 2024 was 49,593 and in USD for 2024 was 13,225.\\\\n\"}',\n",
       " '{\"prompt\": \"What was the free cash flow in SAR and USD for 2023?\", \"completion\": \"Answer: The free cash flow in SAR for 2023 was 76,280 and in USD for 2023 was 20,341.\\\\n\"}',\n",
       " '{\"prompt\": \"What were the dividends paid in SAR and USD for 2024?\", \"completion\": \"Answer: The dividends paid in SAR for 2024 was 116,447 and in USD for 2024 was 31,052.\\\\n\"}',\n",
       " '{\"prompt\": \"What is the income before income taxes and zakat for the year 2024 in SAR?\", \"completion\": \"Answer: The income before income taxes and zakat for the year 2024 in SAR is 195,115 million.\\\\n\"}',\n",
       " '{\"prompt\": \"What is the percentage change in net income from 2023 to 2024?\", \"completion\": \"Answer: The net income has decreased by 15.4% from 2023 to 2024.\\\\n\"}',\n",
       " '{\"prompt\": \"What are the income taxes and zakat for the year 2023 in USD?\", \"completion\": \"Answer: The income taxes and zakat for the year 2023 in USD is (30,983) million.\\\\n\"}',\n",
       " '{\"prompt\": \"What is the net income for the year 2024 in USD?\", \"completion\": \"Answer: The net income for the year 2024 in USD is 27,564 million.\\\\n\"}',\n",
       " '{\"prompt\": \"What is the percentage change in income taxes and zakat from 2023 to 2024?\", \"completion\": \"Answer: The income taxes and zakat have decreased by 21.0% from 2023 to 2024.\\\\n\"}',\n",
       " '{\"prompt\": \"What was the earnings before interest, income taxes and zakat in SAR for the year 2024?\", \"completion\": \"Answer: The earnings before interest, income taxes and zakat in SAR for the year 2024 was 198,076.\\\\n\"}',\n",
       " '{\"prompt\": \"What was the percentage change in earnings before interest, income taxes and zakat in SAR from 2023 to 2024?\", \"completion\": \"Answer: The percentage change in earnings before interest, income taxes and zakat in SAR from 2023 to 2024 was a decrease of 12.9%.\\\\n\"}',\n",
       " '{\"prompt\": \"What was the capital expenditures in USD for the year 2024 on a cash basis?\", \"completion\": \"Answer: The capital expenditures in USD for the year 2024 on a cash basis was 10,600.\\\\n\"}',\n",
       " '{\"prompt\": \"What was the percentage change in capital expenditures in SAR from 2023 to 2024 on a cash basis?\", \"completion\": \"Answer: The percentage change in capital expenditures in SAR from 2023 to 2024 on a cash basis was an increase of 18.0%.\\\\n\"}',\n",
       " '{\"prompt\": \"What was the earnings before interest, income taxes and zakat in USD for the year 2024?\", \"completion\": \"Answer: The earnings before interest, income taxes and zakat in USD for the year 2024 was 52,820.\\\\n\"}',\n",
       " '{\"prompt\": \"What were the earnings before interest, income taxes, and zakat in 2024 and 2023 in SAR?\", \"completion\": \"Answer: The earnings before interest, income taxes, and zakat in 2024 were (6,675) SAR, and in 2023, they were 19,739 SAR.\\\\n\"}',\n",
       " '{\"prompt\": \"What was the percentage change in capital expenditures on a cash basis from 2023 to 2024?\", \"completion\": \"Answer: The capital expenditures on a cash basis increased by 34.2% from 2023 to 2024.\\\\n\"}',\n",
       " '{\"prompt\": \"What were the capital expenditures in 2024 and 2023 in USD?\", \"completion\": \"Answer: The capital expenditures in 2024 were 2,524 USD, and in 2023, they were 1,882 USD.\\\\n\"}',\n",
       " '{\"prompt\": \"What was the percentage change in earnings before interest, income taxes, and zakat from 2023 to 2024?\", \"completion\": \"Answer: The earnings before interest, income taxes, and zakat decreased by 133.8% from 2023 to 2024.\\\\n\"}',\n",
       " '{\"prompt\": \"What were the earnings before interest, income taxes, and zakat in 2024 and 2023 in USD?\", \"completion\": \"Answer: The earnings before interest, income taxes, and zakat in 2024 were (1,780) USD, and in 2023, they were 5,264 USD.\\\\n\"}',\n",
       " '{\"prompt\": \"What is the net income for the year 2024 in SAR and USD?\", \"completion\": \"Answer: The net income for the year 2024 is 414,870 in SAR and 110,633 in USD.\\\\n\"}',\n",
       " '{\"prompt\": \"What are the non-current borrowings as at period start and period end for the year 2024 in SAR?\", \"completion\": \"Answer: The non-current borrowings as at period start for the year 2024 in SAR is 227,787, and as at period end, it is 251,304.\\\\n\"}',\n",
       " '{\"prompt\": \"What is the total equity as at period start and period end for the year 2024 in USD?\", \"completion\": \"Answer: The total equity as at period start for the year 2024 in USD is 467,870, and as at period end, it is 450,897.\\\\n\"}',\n",
       " '{\"prompt\": \"What is the average capital employed for the year 2024 in SAR and USD?\", \"completion\": \"Answer: The average capital employed for the year 2024 is 2,016,942 in SAR and 537,851 in USD.\\\\n\"}',\n",
       " '{\"prompt\": \"What is the ROACE for the year 2024 in SAR and USD?\", \"completion\": \"Answer: The ROACE for the year 2024 is 20.8% in both SAR and USD.\\\\n\"}',\n",
       " '{\"prompt\": \"What is the net cash provided by operating activities in SAR for the year 2024?\", \"completion\": \"Answer: The net cash provided by operating activities in SAR for the year 2024 is 132,058 million.\\\\n\"}',\n",
       " '{\"prompt\": \"What is the free cash flow in USD for the year 2023?\", \"completion\": \"Answer: The free cash flow in USD for the year 2023 is 20,341 million, and also equals 74,392 million when considering the SAR to USD conversion for the same year.\\\\n\"}',\n",
       " '{\"prompt\": \"What are the capital expenditures in SAR and USD for the year 2024?\", \"completion\": \"Answer: The capital expenditures in SAR for the year 2024 is 49,593 million, and in USD for the year 2024 is 13,225 million.\\\\n\"}',\n",
       " '{\"prompt\": \"What is the net cash provided by operating activities in USD for the year 2024 and the corresponding value in SAR?\", \"completion\": \"Answer: The net cash provided by operating activities in USD for the year 2024 is 35,215 million, and the corresponding value in SAR for the year 2024 is 132,058 million.\\\\n\"}',\n",
       " '{\"prompt\": \"What are the free cash flows in SAR and USD for the year 2024?\", \"completion\": \"Answer: The free cash flow in SAR for the year 2024 is 238,908 million, and in USD for the year 2024 is 63,709 million, and also the free cash flow in SAR for the year 2024 is 82,465 million.\\\\n\"}',\n",
       " '{\"prompt\": \"What is the total borrowings for the current and non-current period as of September 30, 2024?\", \"completion\": \"Answer: The total borrowings for the current and non-current period as of September 30, 2024, is 303,459 million.\\\\n\"}',\n",
       " '{\"prompt\": \"What is the net debt or cash as of December 31, 2023?\", \"completion\": \"Answer: The net debt or cash as of December 31, 2023, is -102,753 million, indicating a net cash position.\\\\n\"}',\n",
       " '{\"prompt\": \"What is the total equity as of September 30, 2024, and December 31, 2023?\", \"completion\": \"Answer: The total equity as of September 30, 2024, is 1,690,863 million, and as of December 31, 2023, it is 1,737,092 million.\\\\n\"}',\n",
       " '{\"prompt\": \"What is the gearing as of September 30, 2024, and December 31, 2023?\", \"completion\": \"Answer: The gearing as of September 30, 2024, is 1.9%, and as of December 31, 2023, it is -6.3%.\\\\n\"}',\n",
       " '{\"prompt\": \"What is the total investments in debt securities as of September 30, 2024, and December 31, 2023?\", \"completion\": \"Answer: The total investments in debt securities as of September 30, 2024, is -11,284 million, and as of December 31, 2023, it is -9,584 million.\\\\n\"}',\n",
       " '{\"prompt\": \"What is the net income in SAR for the year 2024?\", \"completion\": \"Answer: The net income in SAR for the year 2024 is 103,365 million.\\\\n\"}',\n",
       " '{\"prompt\": \"What are the finance costs in USD for the years 2024 and 2023?\", \"completion\": \"Answer: The finance costs in USD for the years 2024 and 2023 are 603 million and 520 million, respectively.\\\\n\"}',\n",
       " '{\"prompt\": \"What is the earnings before interest, income taxes, and zakat in SAR for the year 2023?\", \"completion\": \"Answer: The earnings before interest, income taxes, and zakat in SAR for the year 2023 is 233,523 million.\\\\n\"}',\n",
       " '{\"prompt\": \"What are the income taxes and zakat in SAR and USD for the year 2024?\", \"completion\": \"Answer: The income taxes and zakat in SAR and USD for the year 2024 are 91,750 million and 24,467 million, respectively.\\\\n\"}',\n",
       " '{\"prompt\": \"What is the finance income in SAR for the years 2024 and 2023?\", \"completion\": \"Answer: The finance income in SAR for the years 2024 and 2023 are -4,450 million and -6,798 million, respectively.\\\\n\"}']"
      ]
     },
     "execution_count": 11,
     "metadata": {},
     "output_type": "execute_result"
    }
   ],
   "source": [
    "lines = []\n",
    "for document in documents:\n",
    "    try: \n",
    "        qa_pairs = generate_qa_pairs(\n",
    "            context=document.page_content,\n",
    "            amount=5,\n",
    "            include_context=False,\n",
    "            include_thoughts=False,\n",
    "            include_references=False,\n",
    "        )\n",
    "        lines.extend(qa_pairs_to_prompt_completion(qa_pairs))\n",
    "    except Exception as e:\n",
    "        print(f\"Error generating Q&A pairs for document: {document.page_content}\")\n",
    "        print(e)\n",
    "lines"
   ]
  },
  {
   "cell_type": "markdown",
   "metadata": {},
   "source": [
    "Write the list of JSON strings into a jsonl file"
   ]
  },
  {
   "cell_type": "code",
   "execution_count": null,
   "metadata": {},
   "outputs": [],
   "source": [
    "with open(\"output.jsonl\", \"w\") as f:\n",
    "    for line in lines:\n",
    "        json_obj = json.loads(line)  # ensure it's valid JSON\n",
    "        f.write(json.dumps(json_obj) + \"\\n\")"
   ]
  }
 ],
 "metadata": {
  "kernelspec": {
   "display_name": "data_gen_env",
   "language": "python",
   "name": "python3"
  },
  "language_info": {
   "codemirror_mode": {
    "name": "ipython",
    "version": 3
   },
   "file_extension": ".py",
   "mimetype": "text/x-python",
   "name": "python",
   "nbconvert_exporter": "python",
   "pygments_lexer": "ipython3",
   "version": "3.11.9"
  }
 },
 "nbformat": 4,
 "nbformat_minor": 2
}
