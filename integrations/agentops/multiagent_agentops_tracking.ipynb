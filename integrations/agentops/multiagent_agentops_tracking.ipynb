{
 "cells": [
  {
   "cell_type": "markdown",
   "metadata": {},
   "source": [
    "<picture>\n",
    "<a href=\"https://sambanova.ai/\"\\>\n",
    "<source media=\"(prefers-color-scheme: dark)\" srcset=\"../../images/SambaNova-light-logo-1.png\" height=\"60\">\n",
    "<img alt=\"SambaNova logo\" src=\"../../images/SambaNova-dark-logo-1.png\" height=\"60\">\n",
    "</picture>\n",
    "</a>\n",
    "\n",
    "# Agentops Agent Tracking with SambaNova \n",
    "\n",
    "Adapted from the same [Agentops example](https://docs.agentops.ai/v1/examples/multi_agent).\n",
    "\n",
    "Integrating AgentOps with SambaNova Cloud enhances AI agent development by providing real-time monitoring, debugging, and cost management for LLM inference. AgentOps offers session replay analytics, time-travel debugging, and API latency tracking, helping developers optimize performance and troubleshoot issues efficiently. \n",
    "\n",
    "You'll need first to import the necessary modules. Please, create a `.env` file at the repository root and include `SAMBANOVA_URL` and `SAMBANOVA_API_KEY` after creating your [SambaNova Cloud API key](https://cloud.sambanova.ai/apis). You'll also need to add the `AGENTOPS_API_KEY`, so follow the steps in [this link.](https://app.agentops.ai/settings/projects)\n",
    "\n",
    "Then, create a venv using the framework that you prefer and install the dependencies in the `requirements.txt` located in the current folder.\n"
   ]
  },
  {
   "cell_type": "code",
   "execution_count": 2,
   "metadata": {},
   "outputs": [],
   "source": [
    "import os\n",
    "import agentops\n",
    "from agentops import track_agent\n",
    "from openai import OpenAI\n",
    "from IPython.display import display, Markdown"
   ]
  },
  {
   "cell_type": "code",
   "execution_count": 3,
   "metadata": {},
   "outputs": [],
   "source": [
    "from dotenv import load_dotenv\n",
    "\n",
    "load_dotenv('../../.env',override=True)\n",
    "\n",
    "sambanova_base_url = os.getenv('SAMBANOVA_URL')\n",
    "sambanova_api_key = os.getenv('SAMBANOVA_API_KEY')\n",
    "agentops_api_key = os.getenv(\"AGENTOPS_API_KEY\")\n",
    "\n",
    "import logging\n",
    "logging.basicConfig(\n",
    "    level=logging.DEBUG\n",
    ")  # this will let us see that calls are assigned to an agent"
   ]
  },
  {
   "cell_type": "code",
   "execution_count": 4,
   "metadata": {},
   "outputs": [
    {
     "name": "stderr",
     "output_type": "stream",
     "text": [
      "DEBUG:urllib3.connectionpool:Starting new HTTPS connection (1): pypi.org:443\n",
      "DEBUG:urllib3.connectionpool:https://pypi.org:443 \"GET /pypi/agentops/json HTTP/1.1\" 200 33610\n",
      "DEBUG:urllib3.connectionpool:Starting new HTTPS connection (1): api.agentops.ai:443\n",
      "DEBUG:urllib3.connectionpool:https://api.agentops.ai:443 \"POST /v2/create_session HTTP/1.1\" 200 311\n",
      "🖇 AgentOps: \u001b[34m\u001b[34mSession Replay: https://app.agentops.ai/drilldown?session_id=83654578-7a8d-4d3a-9674-0de64df3406d\u001b[0m\u001b[0m\n"
     ]
    },
    {
     "name": "stderr",
     "output_type": "stream",
     "text": [
      "DEBUG:urllib3.connectionpool:https://api.agentops.ai:443 \"POST /v2/create_events HTTP/1.1\" 200 9\n"
     ]
    }
   ],
   "source": [
    "agentops.init(agentops_api_key, default_tags=[\"multi-agent-notebook\"])\n",
    "sambanova_client = OpenAI(base_url=sambanova_base_url, api_key=sambanova_api_key)"
   ]
  },
  {
   "cell_type": "code",
   "execution_count": 5,
   "metadata": {},
   "outputs": [],
   "source": [
    "@track_agent(name=\"qa\")\n",
    "class QaAgent:\n",
    "    def completion(self, prompt: str):\n",
    "        res = sambanova_client.chat.completions.create(\n",
    "            model=\"Meta-Llama-3.1-70B-Instruct\",\n",
    "            messages=[\n",
    "                {\n",
    "                    \"role\": \"system\",\n",
    "                    \"content\": \"You are a qa engineer and only output python code, no markdown tags.\",\n",
    "                },\n",
    "                {\"role\": \"user\", \"content\": prompt},\n",
    "            ],\n",
    "            temperature=0.5,\n",
    "        )\n",
    "        return res.choices[0].message.content\n",
    "\n",
    "\n",
    "@track_agent(name=\"engineer\")\n",
    "class EngineerAgent:\n",
    "    def completion(self, prompt: str):\n",
    "        res = sambanova_client.chat.completions.create(\n",
    "            model=\"Meta-Llama-3.1-70B-Instruct\",\n",
    "            messages=[\n",
    "                {\n",
    "                    \"role\": \"system\",\n",
    "                    \"content\": \"You are a software engineer and only output python code, no markdown tags.\",\n",
    "                },\n",
    "                {\"role\": \"user\", \"content\": prompt},\n",
    "            ],\n",
    "            temperature=0.5,\n",
    "        )\n",
    "        return res.choices[0].message.content"
   ]
  },
  {
   "cell_type": "code",
   "execution_count": 6,
   "metadata": {},
   "outputs": [
    {
     "name": "stderr",
     "output_type": "stream",
     "text": [
      "DEBUG:urllib3.connectionpool:https://api.agentops.ai:443 \"POST /v2/create_agent HTTP/1.1\" 200 9\n",
      "DEBUG:urllib3.connectionpool:https://api.agentops.ai:443 \"POST /v2/create_agent HTTP/1.1\" 200 9\n"
     ]
    }
   ],
   "source": [
    "qa = QaAgent()\n",
    "engineer = EngineerAgent()"
   ]
  },
  {
   "cell_type": "code",
   "execution_count": 7,
   "metadata": {},
   "outputs": [
    {
     "name": "stderr",
     "output_type": "stream",
     "text": [
      "DEBUG:openai._base_client:Request options: {'method': 'post', 'url': '/chat/completions', 'files': None, 'json_data': {'messages': [{'role': 'system', 'content': 'You are a software engineer and only output python code, no markdown tags.'}, {'role': 'user', 'content': 'python function to test prime number'}], 'model': 'Meta-Llama-3.1-70B-Instruct', 'temperature': 0.5}}\n",
      "DEBUG:openai._base_client:Sending HTTP Request: POST https://api.sambanova.ai/v1/chat/completions\n",
      "DEBUG:httpcore.connection:connect_tcp.started host='api.sambanova.ai' port=443 local_address=None timeout=5.0 socket_options=None\n",
      "DEBUG:httpcore.connection:connect_tcp.complete return_value=<httpcore._backends.sync.SyncStream object at 0x105c4b7d0>\n",
      "DEBUG:httpcore.connection:start_tls.started ssl_context=<ssl.SSLContext object at 0x107b80c20> server_hostname='api.sambanova.ai' timeout=5.0\n",
      "DEBUG:httpcore.connection:start_tls.complete return_value=<httpcore._backends.sync.SyncStream object at 0x107845050>\n",
      "DEBUG:httpcore.http11:send_request_headers.started request=<Request [b'POST']>\n",
      "DEBUG:httpcore.http11:send_request_headers.complete\n",
      "DEBUG:httpcore.http11:send_request_body.started request=<Request [b'POST']>\n",
      "DEBUG:httpcore.http11:send_request_body.complete\n",
      "DEBUG:httpcore.http11:receive_response_headers.started request=<Request [b'POST']>\n",
      "DEBUG:httpcore.http11:receive_response_headers.complete return_value=(b'HTTP/1.1', 200, b'OK', [(b'Date', b'Fri, 21 Feb 2025 14:57:55 GMT'), (b'Content-Type', b'application/json; charset=utf-8'), (b'Content-Length', b'1269'), (b'Connection', b'keep-alive'), (b'Strict-Transport-Security', b'max-age=31536000; includeSubDomains'), (b'Access-Control-Allow-Origin', b'*'), (b'Access-Control-Allow-Credentials', b'true'), (b'Access-Control-Allow-Methods', b'GET, PUT, POST, DELETE, PATCH, OPTIONS'), (b'Access-Control-Allow-Headers', b'DNT,Keep-Alive,User-Agent,X-Requested-With,If-Modified-Since,Cache-Control,Content-Type,Range,Authorization'), (b'Access-Control-Max-Age', b'1728000')])\n",
      "INFO:httpx:HTTP Request: POST https://api.sambanova.ai/v1/chat/completions \"HTTP/1.1 200 OK\"\n",
      "DEBUG:httpcore.http11:receive_response_body.started request=<Request [b'POST']>\n",
      "DEBUG:httpcore.http11:receive_response_body.complete\n",
      "DEBUG:httpcore.http11:response_closed.started\n",
      "DEBUG:httpcore.http11:response_closed.complete\n",
      "DEBUG:openai._base_client:HTTP Response: POST https://api.sambanova.ai/v1/chat/completions \"200 OK\" Headers({'date': 'Fri, 21 Feb 2025 14:57:55 GMT', 'content-type': 'application/json; charset=utf-8', 'content-length': '1269', 'connection': 'keep-alive', 'strict-transport-security': 'max-age=31536000; includeSubDomains', 'access-control-allow-origin': '*', 'access-control-allow-credentials': 'true', 'access-control-allow-methods': 'GET, PUT, POST, DELETE, PATCH, OPTIONS', 'access-control-allow-headers': 'DNT,Keep-Alive,User-Agent,X-Requested-With,If-Modified-Since,Cache-Control,Content-Type,Range,Authorization', 'access-control-max-age': '1728000'})\n",
      "DEBUG:openai._base_client:request_id: None\n"
     ]
    }
   ],
   "source": [
    "generated_func = engineer.completion(\"python function to test prime number\")"
   ]
  },
  {
   "cell_type": "code",
   "execution_count": 8,
   "metadata": {},
   "outputs": [
    {
     "data": {
      "text/markdown": [
       "```python\n",
       "def is_prime(n):\n",
       "    if n <= 1:\n",
       "        return False\n",
       "    if n == 2:\n",
       "        return True\n",
       "    if n % 2 == 0:\n",
       "        return False\n",
       "    max_divisor = int(n**0.5) + 1\n",
       "    for d in range(3, max_divisor, 2):\n",
       "        if n % d == 0:\n",
       "            return False\n",
       "    return True\n",
       "\n",
       "def main():\n",
       "    num = int(input(\"Enter a number: \"))\n",
       "    if is_prime(num):\n",
       "        print(num, \"is a prime number\")\n",
       "    else:\n",
       "        print(num, \"is not a prime number\")\n",
       "\n",
       "if __name__ == \"__main__\":\n",
       "    main()\n",
       "```"
      ],
      "text/plain": [
       "<IPython.core.display.Markdown object>"
      ]
     },
     "metadata": {},
     "output_type": "display_data"
    }
   ],
   "source": [
    "display(Markdown(\"```python\\n\" + generated_func + \"\\n```\"))"
   ]
  },
  {
   "cell_type": "code",
   "execution_count": 9,
   "metadata": {},
   "outputs": [
    {
     "name": "stderr",
     "output_type": "stream",
     "text": [
      "DEBUG:openai._base_client:Request options: {'method': 'post', 'url': '/chat/completions', 'files': None, 'json_data': {'messages': [{'role': 'system', 'content': 'You are a qa engineer and only output python code, no markdown tags.'}, {'role': 'user', 'content': 'Write a python unit test that test the following function: \\n def is_prime(n):\\n    if n <= 1:\\n        return False\\n    if n == 2:\\n        return True\\n    if n % 2 == 0:\\n        return False\\n    max_divisor = int(n**0.5) + 1\\n    for d in range(3, max_divisor, 2):\\n        if n % d == 0:\\n            return False\\n    return True\\n\\ndef main():\\n    num = int(input(\"Enter a number: \"))\\n    if is_prime(num):\\n        print(num, \"is a prime number\")\\n    else:\\n        print(num, \"is not a prime number\")\\n\\nif __name__ == \"__main__\":\\n    main()'}], 'model': 'Meta-Llama-3.1-70B-Instruct', 'temperature': 0.5}}\n",
      "DEBUG:openai._base_client:Sending HTTP Request: POST https://api.sambanova.ai/v1/chat/completions\n",
      "DEBUG:httpcore.http11:send_request_headers.started request=<Request [b'POST']>\n",
      "DEBUG:httpcore.http11:send_request_headers.complete\n",
      "DEBUG:httpcore.http11:send_request_body.started request=<Request [b'POST']>\n",
      "DEBUG:httpcore.http11:send_request_body.complete\n",
      "DEBUG:httpcore.http11:receive_response_headers.started request=<Request [b'POST']>\n",
      "DEBUG:httpcore.http11:receive_response_headers.complete return_value=(b'HTTP/1.1', 200, b'OK', [(b'Date', b'Fri, 21 Feb 2025 14:57:56 GMT'), (b'Content-Type', b'application/json; charset=utf-8'), (b'Transfer-Encoding', b'chunked'), (b'Connection', b'keep-alive'), (b'Strict-Transport-Security', b'max-age=31536000; includeSubDomains'), (b'Access-Control-Allow-Origin', b'*'), (b'Access-Control-Allow-Credentials', b'true'), (b'Access-Control-Allow-Methods', b'GET, PUT, POST, DELETE, PATCH, OPTIONS'), (b'Access-Control-Allow-Headers', b'DNT,Keep-Alive,User-Agent,X-Requested-With,If-Modified-Since,Cache-Control,Content-Type,Range,Authorization'), (b'Access-Control-Max-Age', b'1728000')])\n",
      "INFO:httpx:HTTP Request: POST https://api.sambanova.ai/v1/chat/completions \"HTTP/1.1 200 OK\"\n",
      "DEBUG:httpcore.http11:receive_response_body.started request=<Request [b'POST']>\n",
      "DEBUG:httpcore.http11:receive_response_body.complete\n",
      "DEBUG:httpcore.http11:response_closed.started\n",
      "DEBUG:httpcore.http11:response_closed.complete\n",
      "DEBUG:openai._base_client:HTTP Response: POST https://api.sambanova.ai/v1/chat/completions \"200 OK\" Headers({'date': 'Fri, 21 Feb 2025 14:57:56 GMT', 'content-type': 'application/json; charset=utf-8', 'transfer-encoding': 'chunked', 'connection': 'keep-alive', 'strict-transport-security': 'max-age=31536000; includeSubDomains', 'access-control-allow-origin': '*', 'access-control-allow-credentials': 'true', 'access-control-allow-methods': 'GET, PUT, POST, DELETE, PATCH, OPTIONS', 'access-control-allow-headers': 'DNT,Keep-Alive,User-Agent,X-Requested-With,If-Modified-Since,Cache-Control,Content-Type,Range,Authorization', 'access-control-max-age': '1728000'})\n",
      "DEBUG:openai._base_client:request_id: None\n"
     ]
    }
   ],
   "source": [
    "generated_test = qa.completion(\n",
    "    \"Write a python unit test that test the following function: \\n \" + generated_func\n",
    ")"
   ]
  },
  {
   "cell_type": "code",
   "execution_count": 10,
   "metadata": {},
   "outputs": [
    {
     "data": {
      "text/markdown": [
       "```python\n",
       "```python\n",
       "import unittest\n",
       "\n",
       "def is_prime(n):\n",
       "    if n <= 1:\n",
       "        return False\n",
       "    if n == 2:\n",
       "        return True\n",
       "    if n % 2 == 0:\n",
       "        return False\n",
       "    max_divisor = int(n**0.5) + 1\n",
       "    for d in range(3, max_divisor, 2):\n",
       "        if n % d == 0:\n",
       "            return False\n",
       "    return True\n",
       "\n",
       "class TestIsPrimeFunction(unittest.TestCase):\n",
       "    def test_less_than_or_equal_to_one(self):\n",
       "        self.assertFalse(is_prime(1))\n",
       "        self.assertFalse(is_prime(0))\n",
       "        self.assertFalse(is_prime(-1))\n",
       "\n",
       "    def test_two(self):\n",
       "        self.assertTrue(is_prime(2))\n",
       "\n",
       "    def test_even_numbers(self):\n",
       "        self.assertFalse(is_prime(4))\n",
       "        self.assertFalse(is_prime(6))\n",
       "        self.assertFalse(is_prime(8))\n",
       "\n",
       "    def test_prime_numbers(self):\n",
       "        self.assertTrue(is_prime(3))\n",
       "        self.assertTrue(is_prime(5))\n",
       "        self.assertTrue(is_prime(7))\n",
       "        self.assertTrue(is_prime(11))\n",
       "        self.assertTrue(is_prime(13))\n",
       "\n",
       "    def test_large_prime_numbers(self):\n",
       "        self.assertTrue(is_prime(997))\n",
       "        self.assertTrue(is_prime(1009))\n",
       "\n",
       "    def test_large_composite_numbers(self):\n",
       "        self.assertFalse(is_prime(1000))\n",
       "        self.assertFalse(is_prime(1002))\n",
       "\n",
       "if __name__ == \"__main__\":\n",
       "    unittest.main()\n",
       "```\n",
       "```"
      ],
      "text/plain": [
       "<IPython.core.display.Markdown object>"
      ]
     },
     "metadata": {},
     "output_type": "display_data"
    }
   ],
   "source": [
    "display(Markdown(\"```python\\n\" + generated_test + \"\\n```\"))"
   ]
  },
  {
   "cell_type": "code",
   "execution_count": 11,
   "metadata": {},
   "outputs": [
    {
     "name": "stderr",
     "output_type": "stream",
     "text": [
      "DEBUG:openai._base_client:Request options: {'method': 'post', 'url': '/chat/completions', 'files': None, 'json_data': {'messages': [{'role': 'system', 'content': 'You are not a tracked agent'}, {'role': 'user', 'content': 'Say hello'}], 'model': 'Meta-Llama-3.1-70B-Instruct'}}\n",
      "DEBUG:openai._base_client:Sending HTTP Request: POST https://api.sambanova.ai/v1/chat/completions\n",
      "DEBUG:httpcore.http11:send_request_headers.started request=<Request [b'POST']>\n",
      "DEBUG:httpcore.http11:send_request_headers.complete\n",
      "DEBUG:httpcore.http11:send_request_body.started request=<Request [b'POST']>\n",
      "DEBUG:httpcore.http11:send_request_body.complete\n",
      "DEBUG:httpcore.http11:receive_response_headers.started request=<Request [b'POST']>\n",
      "DEBUG:httpcore.http11:receive_response_headers.complete return_value=(b'HTTP/1.1', 200, b'OK', [(b'Date', b'Fri, 21 Feb 2025 14:57:57 GMT'), (b'Content-Type', b'application/json; charset=utf-8'), (b'Content-Length', b'866'), (b'Connection', b'keep-alive'), (b'Strict-Transport-Security', b'max-age=31536000; includeSubDomains'), (b'Access-Control-Allow-Origin', b'*'), (b'Access-Control-Allow-Credentials', b'true'), (b'Access-Control-Allow-Methods', b'GET, PUT, POST, DELETE, PATCH, OPTIONS'), (b'Access-Control-Allow-Headers', b'DNT,Keep-Alive,User-Agent,X-Requested-With,If-Modified-Since,Cache-Control,Content-Type,Range,Authorization'), (b'Access-Control-Max-Age', b'1728000')])\n",
      "INFO:httpx:HTTP Request: POST https://api.sambanova.ai/v1/chat/completions \"HTTP/1.1 200 OK\"\n",
      "DEBUG:httpcore.http11:receive_response_body.started request=<Request [b'POST']>\n",
      "DEBUG:httpcore.http11:receive_response_body.complete\n",
      "DEBUG:httpcore.http11:response_closed.started\n",
      "DEBUG:httpcore.http11:response_closed.complete\n",
      "DEBUG:openai._base_client:HTTP Response: POST https://api.sambanova.ai/v1/chat/completions \"200 OK\" Headers({'date': 'Fri, 21 Feb 2025 14:57:57 GMT', 'content-type': 'application/json; charset=utf-8', 'content-length': '866', 'connection': 'keep-alive', 'strict-transport-security': 'max-age=31536000; includeSubDomains', 'access-control-allow-origin': '*', 'access-control-allow-credentials': 'true', 'access-control-allow-methods': 'GET, PUT, POST, DELETE, PATCH, OPTIONS', 'access-control-allow-headers': 'DNT,Keep-Alive,User-Agent,X-Requested-With,If-Modified-Since,Cache-Control,Content-Type,Range,Authorization', 'access-control-max-age': '1728000'})\n",
      "DEBUG:openai._base_client:request_id: None\n"
     ]
    },
    {
     "data": {
      "text/plain": [
       "\"Hello! It's nice to meet you. Is there something I can help you with or would you like to chat?\""
      ]
     },
     "execution_count": 11,
     "metadata": {},
     "output_type": "execute_result"
    }
   ],
   "source": [
    "res = sambanova_client.chat.completions.create(\n",
    "    model=\"Meta-Llama-3.1-70B-Instruct\",\n",
    "    messages=[\n",
    "        {\"role\": \"system\", \"content\": \"You are not a tracked agent\"},\n",
    "        {\"role\": \"user\", \"content\": \"Say hello\"},\n",
    "    ],\n",
    ")\n",
    "res.choices[0].message.content"
   ]
  },
  {
   "cell_type": "code",
   "execution_count": 12,
   "metadata": {},
   "outputs": [
    {
     "name": "stderr",
     "output_type": "stream",
     "text": [
      "DEBUG:urllib3.connectionpool:https://api.agentops.ai:443 \"POST /v2/update_session HTTP/1.1\" 200 138\n",
      "🖇 AgentOps: Session Stats - \u001b[1mDuration:\u001b[0m 4.2s | \u001b[1mCost:\u001b[0m $0.00 | \u001b[1mLLMs:\u001b[0m 3 | \u001b[1mTools:\u001b[0m 0 | \u001b[1mActions:\u001b[0m 0 | \u001b[1mErrors:\u001b[0m 0\n",
      "🖇 AgentOps: \u001b[34m\u001b[34mSession Replay: https://app.agentops.ai/drilldown?session_id=83654578-7a8d-4d3a-9674-0de64df3406d\u001b[0m\u001b[0m\n"
     ]
    }
   ],
   "source": [
    "agentops.end_session(\"Success\")"
   ]
  }
 ],
 "metadata": {
  "kernelspec": {
   "display_name": "agentops_venv",
   "language": "python",
   "name": "agentops_venv"
  },
  "language_info": {
   "codemirror_mode": {
    "name": "ipython",
    "version": 3
   },
   "file_extension": ".py",
   "mimetype": "text/x-python",
   "name": "python",
   "nbconvert_exporter": "python",
   "pygments_lexer": "ipython3",
   "version": "3.11.3"
  }
 },
 "nbformat": 4,
 "nbformat_minor": 2
}
