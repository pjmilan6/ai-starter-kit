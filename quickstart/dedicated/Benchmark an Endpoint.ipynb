{
 "cells": [
  {
   "cell_type": "markdown",
   "id": "f594c94e-0e5e-4852-a132-4e3e24ed0b41",
   "metadata": {},
   "source": [
    "# Benchmark an Endpoint"
   ]
  },
  {
   "cell_type": "markdown",
   "id": "6a795bb7-8801-455c-bd2d-e3d192821fdf",
   "metadata": {},
   "source": [
    "Welcome to this tutorial on benchmarking an endpoint deployed on a SambaNova dedicated node!\n",
    "\n",
    "If you don't already have an endpoint deployed, please follow one of the workflows described in the [README](./README.md) to deploy an endpoint before proceeding with this tutorial.\n",
    "\n",
    "Also, please install the benchmarking requirements in the Python kernel used in this Jupyter notebook\n",
    "\n",
    "`! pip install -r ../../benchmarking/requirements.txt`"
   ]
  },
  {
   "cell_type": "markdown",
   "id": "baebfc10-eb09-4da5-82e9-35f9f78cdca7",
   "metadata": {},
   "source": [
    "## 1.  Imports"
   ]
  },
  {
   "cell_type": "code",
   "execution_count": 1,
   "id": "8bd40d05-10f3-47d7-8c57-507798bfca9a",
   "metadata": {},
   "outputs": [
    {
     "data": {
      "text/plain": [
       "'3.11.11 (main, Dec 11 2024, 10:28:39) [Clang 14.0.6 ]'"
      ]
     },
     "execution_count": 1,
     "metadata": {},
     "output_type": "execute_result"
    }
   ],
   "source": [
    "import sys\n",
    "sys.version"
   ]
  },
  {
   "cell_type": "code",
   "execution_count": 2,
   "id": "ea1bf646-5d54-4044-8324-33bbfa235035",
   "metadata": {
    "editable": true,
    "slideshow": {
     "slide_type": ""
    },
    "tags": []
   },
   "outputs": [
    {
     "data": {
      "text/html": [
       "<style>:root { --jp-notebook-max-width: 100% !important; }</style>"
      ],
      "text/plain": [
       "<IPython.core.display.HTML object>"
      ]
     },
     "metadata": {},
     "output_type": "display_data"
    }
   ],
   "source": [
    "from IPython.display import display, HTML\n",
    "display(HTML(\"<style>:root { --jp-notebook-max-width: 100% !important; }</style>\"))\n",
    "import json\n",
    "import os\n",
    "import pprint\n",
    "import getpass\n",
    "import pandas as pd\n",
    "pd.set_option('display.max_columns', None)"
   ]
  },
  {
   "cell_type": "code",
   "execution_count": 3,
   "id": "b4abafd3",
   "metadata": {},
   "outputs": [],
   "source": [
    "benchmarking_dir = \"../../benchmarking/\"\n",
    "sys.path.append(benchmarking_dir + \"benchmarking_scripts\")\n",
    "sys.path.append(benchmarking_dir + \"prompts\")\n",
    "\n",
    "from synthetic_performance_eval_script import *"
   ]
  },
  {
   "cell_type": "markdown",
   "id": "341c9f89-306c-4c3e-8aaf-adfa62f5f72c",
   "metadata": {},
   "source": [
    "## 2. Get endpoint info\n",
    "To benchmark the endpoint, we will need to obtain some of its information. Note that this information can be obtained from your SambaNova representative."
   ]
  },
  {
   "cell_type": "markdown",
   "id": "5dc860c4-ff8e-48be-9707-1d6339dd07da",
   "metadata": {},
   "source": [
    "#### Enter the endpoint url\n",
    "Run the cell below and then enter the endpoint URL. This should be in the format of `https://my.env/v1/<endpoint_id>/chat/completions` "
   ]
  },
  {
   "cell_type": "code",
   "execution_count": 4,
   "id": "2a408fcb-43a5-4a43-9ff8-03f1e85fce2f",
   "metadata": {},
   "outputs": [
    {
     "name": "stdout",
     "output_type": "stream",
     "text": [
      "Benchmarking Endpoint: ad64853e-c96d-45c8-b98f-72a6a650e73b\n"
     ]
    }
   ],
   "source": [
    "endpoint_url = input().strip()\n",
    "if endpoint_url[-1] == \"/\":\n",
    "    endpoint_url = endpoint_url[:-1]\n",
    "os.environ[\"SAMBASTUDIO_URL\"] = endpoint_url\n",
    "endpoint_id = endpoint_url.split('/')[-3]\n",
    "print(\"Benchmarking Endpoint:\", endpoint_id)"
   ]
  },
  {
   "cell_type": "markdown",
   "id": "29049c08",
   "metadata": {},
   "source": [
    "#### Enter the endpoint API key"
   ]
  },
  {
   "cell_type": "code",
   "execution_count": 5,
   "id": "23be29b9",
   "metadata": {},
   "outputs": [],
   "source": [
    "endpoint_key = getpass.getpass().strip()\n",
    "if len(endpoint_key) > 0:\n",
    "    os.environ[\"SAMBASTUDIO_API_KEY\"] = endpoint_key\n",
    "else:\n",
    "    print(\"Please enter a valid key\")"
   ]
  },
  {
   "cell_type": "markdown",
   "id": "02d004f8-6ff1-44ad-b33d-601d71528243",
   "metadata": {},
   "source": [
    "## 3. Automatically retrieve model list from endpoint (Optional)\n",
    "Run this section only if you don't the have list of models on the endpoint. Note that running this section requires you to first follow the set up instructions given in the [README](./README.md)\n",
    "#### Set up environment connector\n",
    "The connector connects to the remote dedicated environment using the variables defined below"
   ]
  },
  {
   "cell_type": "code",
   "execution_count": 6,
   "id": "c419a166",
   "metadata": {},
   "outputs": [
    {
     "data": {
      "text/plain": [
       "'https://sjc3-e9.sambanova.net'"
      ]
     },
     "execution_count": 6,
     "metadata": {},
     "output_type": "execute_result"
    }
   ],
   "source": [
    "env_url = '/'.join(endpoint_url.split('/')[:3])\n",
    "env_url"
   ]
  },
  {
   "cell_type": "code",
   "execution_count": 7,
   "id": "3280b586",
   "metadata": {},
   "outputs": [
    {
     "name": "stdout",
     "output_type": "stream",
     "text": [
      "Enter the env access key\n"
     ]
    }
   ],
   "source": [
    "print(\"Enter the env access key\")\n",
    "env_key = getpass.getpass().strip()\n",
    "if len(env_key) > 0:\n",
    "    os.environ[\"SAMBASTUDIO_ACCESS_KEY\"] = env_key\n",
    "else:\n",
    "    print(\"Please enter a valid key\")"
   ]
  },
  {
   "cell_type": "code",
   "execution_count": 8,
   "id": "97896ba2",
   "metadata": {},
   "outputs": [],
   "source": [
    "env_tenant = \"default\""
   ]
  },
  {
   "cell_type": "code",
   "execution_count": 9,
   "id": "23a8edc5",
   "metadata": {},
   "outputs": [],
   "source": [
    "from snsdk import SnSdk\n",
    "sn_env = SnSdk(host_url=env_url, \n",
    "                   access_key=env_key, \n",
    "                   tenant_id=env_tenant)"
   ]
  },
  {
   "cell_type": "markdown",
   "id": "f09814c6-d819-4c9d-af89-16c4a3ea2336",
   "metadata": {},
   "source": [
    "#### Get model names in the endpoint"
   ]
  },
  {
   "cell_type": "code",
   "execution_count": 10,
   "id": "93440b4e-4b2a-4b0c-b41b-802da793f20d",
   "metadata": {},
   "outputs": [
    {
     "data": {
      "text/plain": [
       "['Meta-Llama-3.3-70B-Instruct',\n",
       " 'Qwen-2.5-72B-SD-Qwen-2.5-0.5B',\n",
       " 'Salesforce--Llama-xLAM-2-70b-fc-r',\n",
       " 'Salesforce--Llama-xLAM-2-8b-fc-r']"
      ]
     },
     "execution_count": 10,
     "metadata": {},
     "output_type": "execute_result"
    }
   ],
   "source": [
    "endpoint_info = sn_env.endpoint_info_by_id(endpoint_id)\n",
    "endpoint_model_id = endpoint_info['targets'][0][\"model\"]\n",
    "model_info = sn_env.model_info(endpoint_model_id, job_type=\"deploy\")\n",
    "model_constituents = [m[\"name\"] for m in model_info[\"dependencies\"]]\n",
    "sorted(model_constituents)"
   ]
  },
  {
   "cell_type": "markdown",
   "id": "91d3b343",
   "metadata": {},
   "source": [
    "#### Get target model names in the endpoint\n",
    "Target model names generally differ from model names when the model is a speculative decoding pair"
   ]
  },
  {
   "cell_type": "code",
   "execution_count": 11,
   "id": "a9265790",
   "metadata": {},
   "outputs": [
    {
     "data": {
      "text/plain": [
       "['Meta-Llama-3.3-70B-Instruct',\n",
       " 'Qwen2.5-72B-Instruct',\n",
       " 'Salesforce--Llama-xLAM-2-70b-fc-r',\n",
       " 'Salesforce--Llama-xLAM-2-8b-fc-r']"
      ]
     },
     "execution_count": 11,
     "metadata": {},
     "output_type": "execute_result"
    }
   ],
   "source": [
    "target_models = []\n",
    "for constituent_name in model_constituents:    \n",
    "    model_name = constituent_name\n",
    "\n",
    "    # Check for speculative decoding\n",
    "    constituent_info = sn_env.model_info(constituent_name, job_type=\"deploy\")\n",
    "    if 'target_model' in constituent_info['config']:\n",
    "        target_name = constituent_info['config']['target_model']        \n",
    "        if len(target_name) > 0:\n",
    "            model_name = target_name\n",
    "    target_models.append(model_name)\n",
    "sorted(target_models)"
   ]
  },
  {
   "cell_type": "markdown",
   "id": "50a26b5f-c0fa-471b-a932-3a549ae96cbe",
   "metadata": {},
   "source": [
    "## 4. Set up Model Configs for Benchmarking\n",
    "Note that this section only currently supports a fraction of what the Benchmarking Kit is capable of. You may repurpose this section if you would like to benchmark images or run questions per second (qps)."
   ]
  },
  {
   "cell_type": "markdown",
   "id": "02b659dc-f5ca-4f47-a466-213ea972663b",
   "metadata": {},
   "source": [
    "#### Specify target models\n",
    "If not automatically set in Step 3, set Target models as a python list"
   ]
  },
  {
   "cell_type": "code",
   "execution_count": 12,
   "id": "bc7cf06e-2a85-478d-9431-b4a169292afa",
   "metadata": {},
   "outputs": [],
   "source": [
    "target_models = target_models # [\"model1\", \"model2\", \"model3\"]"
   ]
  },
  {
   "cell_type": "markdown",
   "id": "1b3542e4-fee3-4b98-8366-f1e039cf10f3",
   "metadata": {},
   "source": [
    "#### Specify combinatorial inputs for benchmarking"
   ]
  },
  {
   "cell_type": "code",
   "execution_count": null,
   "id": "bde38fee-2a62-48be-b8f7-2194721782b7",
   "metadata": {},
   "outputs": [],
   "source": [
    "input_tokens = [4000, 8000, 16000]\n",
    "output_tokens = [100]\n",
    "num_requests = [64]\n",
    "concurrent_requests = [1, 2, 4, 8, 16, 32]"
   ]
  },
  {
   "cell_type": "markdown",
   "id": "9f7931e9",
   "metadata": {},
   "source": [
    "#### Automatically generate configs"
   ]
  },
  {
   "cell_type": "code",
   "execution_count": 14,
   "id": "e2399db2",
   "metadata": {},
   "outputs": [],
   "source": [
    "model_configs_df = pd.DataFrame(columns=[\n",
    "                \"model_name\",\n",
    "                \"input_tokens\",\n",
    "                \"output_tokens\",\n",
    "                \"num_requests\",\n",
    "                \"concurrent_requests\"\n",
    "                ])\n",
    "counter = 1\n",
    "for target_model in target_models:\n",
    "    for input_token in input_tokens:\n",
    "        for output_token in output_tokens:\n",
    "            for num_request in num_requests:\n",
    "                for concurrent_request in concurrent_requests:\n",
    "                    model_configs_df.loc[counter] = [\n",
    "                                        target_model, \n",
    "                                        input_token,\n",
    "                                        output_token,\n",
    "                                        num_request,\n",
    "                                        concurrent_request\n",
    "                                    ]\n",
    "                    counter += 1\n"
   ]
  },
  {
   "cell_type": "markdown",
   "id": "46b04f6d",
   "metadata": {},
   "source": [
    "#### Confirm model configs and delete any configs that you would rather exclude"
   ]
  },
  {
   "cell_type": "code",
   "execution_count": 15,
   "id": "8cbcf8dd",
   "metadata": {},
   "outputs": [
    {
     "data": {
      "text/html": [
       "<div>\n",
       "<style scoped>\n",
       "    .dataframe tbody tr th:only-of-type {\n",
       "        vertical-align: middle;\n",
       "    }\n",
       "\n",
       "    .dataframe tbody tr th {\n",
       "        vertical-align: top;\n",
       "    }\n",
       "\n",
       "    .dataframe thead th {\n",
       "        text-align: right;\n",
       "    }\n",
       "</style>\n",
       "<table border=\"1\" class=\"dataframe\">\n",
       "  <thead>\n",
       "    <tr style=\"text-align: right;\">\n",
       "      <th></th>\n",
       "      <th>model_name</th>\n",
       "      <th>input_tokens</th>\n",
       "      <th>output_tokens</th>\n",
       "      <th>num_requests</th>\n",
       "      <th>concurrent_requests</th>\n",
       "    </tr>\n",
       "  </thead>\n",
       "  <tbody>\n",
       "    <tr>\n",
       "      <th>1</th>\n",
       "      <td>Qwen2.5-72B-Instruct</td>\n",
       "      <td>4000</td>\n",
       "      <td>100</td>\n",
       "      <td>64</td>\n",
       "      <td>1</td>\n",
       "    </tr>\n",
       "    <tr>\n",
       "      <th>2</th>\n",
       "      <td>Qwen2.5-72B-Instruct</td>\n",
       "      <td>4000</td>\n",
       "      <td>100</td>\n",
       "      <td>64</td>\n",
       "      <td>2</td>\n",
       "    </tr>\n",
       "    <tr>\n",
       "      <th>3</th>\n",
       "      <td>Qwen2.5-72B-Instruct</td>\n",
       "      <td>4000</td>\n",
       "      <td>100</td>\n",
       "      <td>64</td>\n",
       "      <td>4</td>\n",
       "    </tr>\n",
       "    <tr>\n",
       "      <th>4</th>\n",
       "      <td>Qwen2.5-72B-Instruct</td>\n",
       "      <td>4000</td>\n",
       "      <td>100</td>\n",
       "      <td>64</td>\n",
       "      <td>8</td>\n",
       "    </tr>\n",
       "    <tr>\n",
       "      <th>5</th>\n",
       "      <td>Qwen2.5-72B-Instruct</td>\n",
       "      <td>4000</td>\n",
       "      <td>100</td>\n",
       "      <td>64</td>\n",
       "      <td>16</td>\n",
       "    </tr>\n",
       "    <tr>\n",
       "      <th>...</th>\n",
       "      <td>...</td>\n",
       "      <td>...</td>\n",
       "      <td>...</td>\n",
       "      <td>...</td>\n",
       "      <td>...</td>\n",
       "    </tr>\n",
       "    <tr>\n",
       "      <th>68</th>\n",
       "      <td>Salesforce--Llama-xLAM-2-70b-fc-r</td>\n",
       "      <td>16000</td>\n",
       "      <td>100</td>\n",
       "      <td>64</td>\n",
       "      <td>2</td>\n",
       "    </tr>\n",
       "    <tr>\n",
       "      <th>69</th>\n",
       "      <td>Salesforce--Llama-xLAM-2-70b-fc-r</td>\n",
       "      <td>16000</td>\n",
       "      <td>100</td>\n",
       "      <td>64</td>\n",
       "      <td>4</td>\n",
       "    </tr>\n",
       "    <tr>\n",
       "      <th>70</th>\n",
       "      <td>Salesforce--Llama-xLAM-2-70b-fc-r</td>\n",
       "      <td>16000</td>\n",
       "      <td>100</td>\n",
       "      <td>64</td>\n",
       "      <td>8</td>\n",
       "    </tr>\n",
       "    <tr>\n",
       "      <th>71</th>\n",
       "      <td>Salesforce--Llama-xLAM-2-70b-fc-r</td>\n",
       "      <td>16000</td>\n",
       "      <td>100</td>\n",
       "      <td>64</td>\n",
       "      <td>16</td>\n",
       "    </tr>\n",
       "    <tr>\n",
       "      <th>72</th>\n",
       "      <td>Salesforce--Llama-xLAM-2-70b-fc-r</td>\n",
       "      <td>16000</td>\n",
       "      <td>100</td>\n",
       "      <td>64</td>\n",
       "      <td>32</td>\n",
       "    </tr>\n",
       "  </tbody>\n",
       "</table>\n",
       "<p>72 rows × 5 columns</p>\n",
       "</div>"
      ],
      "text/plain": [
       "                           model_name  input_tokens  output_tokens  \\\n",
       "1                Qwen2.5-72B-Instruct          4000            100   \n",
       "2                Qwen2.5-72B-Instruct          4000            100   \n",
       "3                Qwen2.5-72B-Instruct          4000            100   \n",
       "4                Qwen2.5-72B-Instruct          4000            100   \n",
       "5                Qwen2.5-72B-Instruct          4000            100   \n",
       "..                                ...           ...            ...   \n",
       "68  Salesforce--Llama-xLAM-2-70b-fc-r         16000            100   \n",
       "69  Salesforce--Llama-xLAM-2-70b-fc-r         16000            100   \n",
       "70  Salesforce--Llama-xLAM-2-70b-fc-r         16000            100   \n",
       "71  Salesforce--Llama-xLAM-2-70b-fc-r         16000            100   \n",
       "72  Salesforce--Llama-xLAM-2-70b-fc-r         16000            100   \n",
       "\n",
       "    num_requests  concurrent_requests  \n",
       "1             64                    1  \n",
       "2             64                    2  \n",
       "3             64                    4  \n",
       "4             64                    8  \n",
       "5             64                   16  \n",
       "..           ...                  ...  \n",
       "68            64                    2  \n",
       "69            64                    4  \n",
       "70            64                    8  \n",
       "71            64                   16  \n",
       "72            64                   32  \n",
       "\n",
       "[72 rows x 5 columns]"
      ]
     },
     "execution_count": 15,
     "metadata": {},
     "output_type": "execute_result"
    }
   ],
   "source": [
    "model_configs_df"
   ]
  },
  {
   "cell_type": "code",
   "execution_count": 16,
   "id": "4087e128",
   "metadata": {},
   "outputs": [
    {
     "data": {
      "text/html": [
       "<div>\n",
       "<style scoped>\n",
       "    .dataframe tbody tr th:only-of-type {\n",
       "        vertical-align: middle;\n",
       "    }\n",
       "\n",
       "    .dataframe tbody tr th {\n",
       "        vertical-align: top;\n",
       "    }\n",
       "\n",
       "    .dataframe thead th {\n",
       "        text-align: right;\n",
       "    }\n",
       "</style>\n",
       "<table border=\"1\" class=\"dataframe\">\n",
       "  <thead>\n",
       "    <tr style=\"text-align: right;\">\n",
       "      <th></th>\n",
       "      <th>model_name</th>\n",
       "      <th>input_tokens</th>\n",
       "      <th>output_tokens</th>\n",
       "      <th>num_requests</th>\n",
       "      <th>concurrent_requests</th>\n",
       "    </tr>\n",
       "  </thead>\n",
       "  <tbody>\n",
       "    <tr>\n",
       "      <th>1</th>\n",
       "      <td>Qwen2.5-72B-Instruct</td>\n",
       "      <td>4000</td>\n",
       "      <td>100</td>\n",
       "      <td>64</td>\n",
       "      <td>1</td>\n",
       "    </tr>\n",
       "    <tr>\n",
       "      <th>2</th>\n",
       "      <td>Qwen2.5-72B-Instruct</td>\n",
       "      <td>4000</td>\n",
       "      <td>100</td>\n",
       "      <td>64</td>\n",
       "      <td>2</td>\n",
       "    </tr>\n",
       "    <tr>\n",
       "      <th>3</th>\n",
       "      <td>Qwen2.5-72B-Instruct</td>\n",
       "      <td>4000</td>\n",
       "      <td>100</td>\n",
       "      <td>64</td>\n",
       "      <td>4</td>\n",
       "    </tr>\n",
       "    <tr>\n",
       "      <th>4</th>\n",
       "      <td>Qwen2.5-72B-Instruct</td>\n",
       "      <td>4000</td>\n",
       "      <td>100</td>\n",
       "      <td>64</td>\n",
       "      <td>8</td>\n",
       "    </tr>\n",
       "    <tr>\n",
       "      <th>5</th>\n",
       "      <td>Qwen2.5-72B-Instruct</td>\n",
       "      <td>4000</td>\n",
       "      <td>100</td>\n",
       "      <td>64</td>\n",
       "      <td>16</td>\n",
       "    </tr>\n",
       "    <tr>\n",
       "      <th>...</th>\n",
       "      <td>...</td>\n",
       "      <td>...</td>\n",
       "      <td>...</td>\n",
       "      <td>...</td>\n",
       "      <td>...</td>\n",
       "    </tr>\n",
       "    <tr>\n",
       "      <th>68</th>\n",
       "      <td>Salesforce--Llama-xLAM-2-70b-fc-r</td>\n",
       "      <td>16000</td>\n",
       "      <td>100</td>\n",
       "      <td>64</td>\n",
       "      <td>2</td>\n",
       "    </tr>\n",
       "    <tr>\n",
       "      <th>69</th>\n",
       "      <td>Salesforce--Llama-xLAM-2-70b-fc-r</td>\n",
       "      <td>16000</td>\n",
       "      <td>100</td>\n",
       "      <td>64</td>\n",
       "      <td>4</td>\n",
       "    </tr>\n",
       "    <tr>\n",
       "      <th>70</th>\n",
       "      <td>Salesforce--Llama-xLAM-2-70b-fc-r</td>\n",
       "      <td>16000</td>\n",
       "      <td>100</td>\n",
       "      <td>64</td>\n",
       "      <td>8</td>\n",
       "    </tr>\n",
       "    <tr>\n",
       "      <th>71</th>\n",
       "      <td>Salesforce--Llama-xLAM-2-70b-fc-r</td>\n",
       "      <td>16000</td>\n",
       "      <td>100</td>\n",
       "      <td>64</td>\n",
       "      <td>16</td>\n",
       "    </tr>\n",
       "    <tr>\n",
       "      <th>72</th>\n",
       "      <td>Salesforce--Llama-xLAM-2-70b-fc-r</td>\n",
       "      <td>16000</td>\n",
       "      <td>100</td>\n",
       "      <td>64</td>\n",
       "      <td>32</td>\n",
       "    </tr>\n",
       "  </tbody>\n",
       "</table>\n",
       "<p>72 rows × 5 columns</p>\n",
       "</div>"
      ],
      "text/plain": [
       "                           model_name  input_tokens  output_tokens  \\\n",
       "1                Qwen2.5-72B-Instruct          4000            100   \n",
       "2                Qwen2.5-72B-Instruct          4000            100   \n",
       "3                Qwen2.5-72B-Instruct          4000            100   \n",
       "4                Qwen2.5-72B-Instruct          4000            100   \n",
       "5                Qwen2.5-72B-Instruct          4000            100   \n",
       "..                                ...           ...            ...   \n",
       "68  Salesforce--Llama-xLAM-2-70b-fc-r         16000            100   \n",
       "69  Salesforce--Llama-xLAM-2-70b-fc-r         16000            100   \n",
       "70  Salesforce--Llama-xLAM-2-70b-fc-r         16000            100   \n",
       "71  Salesforce--Llama-xLAM-2-70b-fc-r         16000            100   \n",
       "72  Salesforce--Llama-xLAM-2-70b-fc-r         16000            100   \n",
       "\n",
       "    num_requests  concurrent_requests  \n",
       "1             64                    1  \n",
       "2             64                    2  \n",
       "3             64                    4  \n",
       "4             64                    8  \n",
       "5             64                   16  \n",
       "..           ...                  ...  \n",
       "68            64                    2  \n",
       "69            64                    4  \n",
       "70            64                    8  \n",
       "71            64                   16  \n",
       "72            64                   32  \n",
       "\n",
       "[72 rows x 5 columns]"
      ]
     },
     "execution_count": 16,
     "metadata": {},
     "output_type": "execute_result"
    }
   ],
   "source": [
    "drop_rows = []\n",
    "model_configs_df.drop(drop_rows, inplace=True)\n",
    "model_configs_df"
   ]
  },
  {
   "cell_type": "markdown",
   "id": "07484641-1bd0-45de-8182-ff0033c06c40",
   "metadata": {},
   "source": [
    "## 5. Run Benchmarking\n",
    "We will run benchmarking with the configs now"
   ]
  },
  {
   "cell_type": "markdown",
   "id": "bb5501dd",
   "metadata": {},
   "source": [
    "#### Name the benchmarking run\n",
    "Give the run a unique name so that the configs and results can be saved with that name. Please note that the name should be compatible with file system path naming rules."
   ]
  },
  {
   "cell_type": "code",
   "execution_count": 17,
   "id": "09b86138",
   "metadata": {},
   "outputs": [],
   "source": [
    "run_name = \"qwen_llama_salesforce_20250519_1\""
   ]
  },
  {
   "cell_type": "markdown",
   "id": "86a2cde6",
   "metadata": {},
   "source": [
    "#### Configure saving options\n",
    "Saving makes it easy to re-run the model configs by skipping all the above sections"
   ]
  },
  {
   "cell_type": "code",
   "execution_count": null,
   "id": "edaaa0c8",
   "metadata": {},
   "outputs": [],
   "source": [
    "output_path = f\"{benchmarking_dir}data/benchmarking_tracking_tests/\"\n",
    "config = {\n",
    "    'model_configs_path': f'{output_path}model_configs_{run_name}.csv', # leave this as is\n",
    "    'llm_api': 'sambastudio', # leave this as is\n",
    "    'output_files_dir': f'{output_path}logs/output_files', # each run saved here\n",
    "    'consolidated_results_dir': f'{output_path}consolidated_results', # consolidated xlsx saved here\n",
    "    'timeout': 3600,\n",
    "    'time_delay': 0, # between batches of concurrent requests\n",
    "}"
   ]
  },
  {
   "cell_type": "markdown",
   "id": "e5c2adc9",
   "metadata": {},
   "source": [
    "#### Save configs"
   ]
  },
  {
   "cell_type": "code",
   "execution_count": 19,
   "id": "d4f4640e",
   "metadata": {},
   "outputs": [],
   "source": [
    "with open(f\"{output_path}config_{run_name}.yaml\", \"w\") as f:\n",
    "    yaml.dump(config, f, default_flow_style=False)\n",
    "model_configs_df.to_csv(config[\"model_configs_path\"], index=False)"
   ]
  },
  {
   "cell_type": "markdown",
   "id": "10108cb6",
   "metadata": {},
   "source": [
    "#### Run configs"
   ]
  },
  {
   "cell_type": "code",
   "execution_count": 20,
   "id": "3355aefd-3d72-4bf8-81e3-f9dc7f25784d",
   "metadata": {},
   "outputs": [],
   "source": [
    "run_benchmarking(config=config, benchmarking_dir=benchmarking_dir, run_name=run_name)"
   ]
  },
  {
   "cell_type": "code",
   "execution_count": null,
   "id": "15ef2298",
   "metadata": {},
   "outputs": [],
   "source": []
  }
 ],
 "metadata": {
  "kernelspec": {
   "display_name": "py_3_11_autogen",
   "language": "python",
   "name": "python3"
  },
  "language_info": {
   "codemirror_mode": {
    "name": "ipython",
    "version": 3
   },
   "file_extension": ".py",
   "mimetype": "text/x-python",
   "name": "python",
   "nbconvert_exporter": "python",
   "pygments_lexer": "ipython3",
   "version": "3.11.11"
  }
 },
 "nbformat": 4,
 "nbformat_minor": 5
}
