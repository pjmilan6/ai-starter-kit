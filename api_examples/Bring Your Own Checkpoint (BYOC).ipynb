{
 "cells": [
  {
   "cell_type": "markdown",
   "id": "f594c94e-0e5e-4852-a132-4e3e24ed0b41",
   "metadata": {},
   "source": [
    "# Bring Your Own Checkpoint (BYOC)"
   ]
  },
  {
   "cell_type": "markdown",
   "id": "6a795bb7-8801-455c-bd2d-e3d192821fdf",
   "metadata": {},
   "source": [
    "Welcome to this tutorial on bringing your own checkpoint (BYOC) to SambaNova Cloud!\n",
    "\n",
    "Please note that this functionality is only available to customers of the SambaNova Cloud dedicated tier. To run this notebook, you will need to set up the SambaNova SDK (SNSDK) and command line interface (SNAPI). \n",
    "\n",
    "1.  Install the following libraries using the wheels provided to you by your SambaNova representative:  \n",
    "    - `pip install ~/Downloads/snsdk-<version>-py3-none-any.whl`  \n",
    "    - `pip install ~/Downloads/SambaStudio_API_Client-<version>-py3-none-any.whl`\n",
    "\n",
    "2.  Set the following environment variables in your `.env` file as provided by your SambaNova representative:\n",
    "```  \n",
    "SAMBASTUDIO_HOST_NAME = '<host name without any trailing \"/\">'\n",
    "SAMBASTUDIO_ACCESS_KEY = '<access key>'\n",
    "SAMBASTUDIO_TENANT_NAME = '<tenant name if provided, else \"default\">'"
   ]
  },
  {
   "cell_type": "markdown",
   "id": "baebfc10-eb09-4da5-82e9-35f9f78cdca7",
   "metadata": {},
   "source": [
    "## 1.  Imports"
   ]
  },
  {
   "cell_type": "code",
   "execution_count": 1,
   "id": "8bd40d05-10f3-47d7-8c57-507798bfca9a",
   "metadata": {},
   "outputs": [
    {
     "data": {
      "text/plain": [
       "'3.11.11 (main, Dec 11 2024, 10:28:39) [Clang 14.0.6 ]'"
      ]
     },
     "execution_count": 1,
     "metadata": {},
     "output_type": "execute_result"
    }
   ],
   "source": [
    "import sys\n",
    "sys.version"
   ]
  },
  {
   "cell_type": "code",
   "execution_count": 2,
   "id": "ea1bf646-5d54-4044-8324-33bbfa235035",
   "metadata": {
    "editable": true,
    "slideshow": {
     "slide_type": ""
    },
    "tags": []
   },
   "outputs": [
    {
     "data": {
      "text/html": [
       "<style>:root { --jp-notebook-max-width: 100% !important; }</style>"
      ],
      "text/plain": [
       "<IPython.core.display.HTML object>"
      ]
     },
     "metadata": {},
     "output_type": "display_data"
    },
    {
     "data": {
      "text/plain": [
       "True"
      ]
     },
     "execution_count": 2,
     "metadata": {},
     "output_type": "execute_result"
    }
   ],
   "source": [
    "from IPython.display import display, HTML\n",
    "display(HTML(\"<style>:root { --jp-notebook-max-width: 100% !important; }</style>\"))\n",
    "import json\n",
    "import os\n",
    "from dotenv import load_dotenv\n",
    "from huggingface_hub import hf_hub_download, HfApi\n",
    "from pathlib import Path\n",
    "import pprint\n",
    "load_dotenv()"
   ]
  },
  {
   "cell_type": "code",
   "execution_count": 3,
   "id": "683277e4-095b-4ef7-9a02-72f7dbc8e0fb",
   "metadata": {},
   "outputs": [],
   "source": [
    "ai_starter_kit_path = \"../\"\n",
    "byoc_path = ai_starter_kit_path + \"utils/byoc\"\n",
    "sys.path.append(byoc_path)\n",
    "from src.snsdk_byoc_wrapper import BYOC"
   ]
  },
  {
   "cell_type": "markdown",
   "id": "cb162fb2-8da7-4a1b-8c96-762188c49888",
   "metadata": {},
   "source": [
    "## 2. Download checkpoint from HuggingFace"
   ]
  },
  {
   "cell_type": "code",
   "execution_count": 4,
   "id": "d236474a-19eb-42d5-afa8-338ffcc519ce",
   "metadata": {},
   "outputs": [],
   "source": [
    "model_name = \"Salesforce/Llama-xLAM-2-8b-fc-r\"  # Replace with your desired model\n",
    "home_dir = os.path.expanduser(\"~\")\n",
    "target_dir = os.path.join(home_dir + \"/models\")  \n",
    "os.makedirs(target_dir, exist_ok=True)\n",
    "\n",
    "repo_files = HfApi().list_repo_files(model_name)\n",
    "for file_name in repo_files:\n",
    "    if file_name == \"config.json\":\n",
    "        config_path = hf_hub_download(repo_id=model_name, filename=file_name, cache_dir=target_dir)"
   ]
  },
  {
   "cell_type": "markdown",
   "id": "20d1fd63-5e8a-4106-b159-a01bca213575",
   "metadata": {},
   "source": [
    "## 3. Set your BYOC config"
   ]
  },
  {
   "cell_type": "markdown",
   "id": "522e7d51-6f44-4412-a738-6bacf2f99eb7",
   "metadata": {},
   "source": [
    "### Model metadata"
   ]
  },
  {
   "cell_type": "markdown",
   "id": "485ea173-6055-49c8-bab7-bfd997f269f5",
   "metadata": {},
   "source": [
    "The metadata values can be modified manually. Note that the `param_count` is hardcoded because it does not exist in any of the HF checkpoint configs."
   ]
  },
  {
   "cell_type": "code",
   "execution_count": 5,
   "id": "9bd8c522-d8d9-4320-a579-42773221ccf2",
   "metadata": {},
   "outputs": [
    {
     "name": "stderr",
     "output_type": "stream",
     "text": [
      "2025-05-02 09:22:31,212 [INFO] Using env variables to set up Snsdk and Snapi.\n"
     ]
    }
   ],
   "source": [
    "byoc = BYOC()\n",
    "byoc.config = {\n",
    "    \"checkpoints\": [{\n",
    "        \"model_name\": model_name.replace('/','--'),\n",
    "        \"checkpoint_path\": str(Path(config_path).parent),\n",
    "        \"publisher\": model_name.split('/')[0],\n",
    "        \"description\": \"BYOC - \" + model_name,\n",
    "        \"param_count\": 8 # number in billions of parameters\n",
    "    }]\n",
    "}"
   ]
  },
  {
   "cell_type": "code",
   "execution_count": 6,
   "id": "266093cc-2f87-4397-80e1-c04ead9b58d6",
   "metadata": {},
   "outputs": [
    {
     "data": {
      "text/plain": [
       "'/Users/varunk/models/models--Salesforce--Llama-xLAM-2-8b-fc-r/snapshots/d10ff9682648d264a364a61505af5c0e172895f8'"
      ]
     },
     "execution_count": 6,
     "metadata": {},
     "output_type": "execute_result"
    }
   ],
   "source": [
    "str(Path(config_path).parent)"
   ]
  },
  {
   "cell_type": "markdown",
   "id": "67c84756-ab59-4f35-a515-752c94538a43",
   "metadata": {},
   "source": [
    "### Model parameters"
   ]
  },
  {
   "cell_type": "code",
   "execution_count": 7,
   "id": "83a88c13-7db5-4b33-9660-2124d1f075ae",
   "metadata": {},
   "outputs": [
    {
     "name": "stderr",
     "output_type": "stream",
     "text": [
      "2025-05-02 09:22:32,266 [INFO] Params for checkpoint in /Users/varunk/models/models--Salesforce--Llama-xLAM-2-8b-fc-r/snapshots/d10ff9682648d264a364a61505af5c0e172895f8:\n",
      "[{'model_arch': 'llama', 'seq_length': 131072, 'vocab_size': 128256}]\n",
      "2025-05-02 09:22:32,268 [INFO] config updated with checkpoints parameters\n"
     ]
    },
    {
     "data": {
      "text/plain": [
       "[{'model_arch': 'llama', 'seq_length': 131072, 'vocab_size': 128256}]"
      ]
     },
     "execution_count": 7,
     "metadata": {},
     "output_type": "execute_result"
    }
   ],
   "source": [
    "byoc.find_config_params()"
   ]
  },
  {
   "cell_type": "markdown",
   "id": "35f6c45b-3832-4d8e-b3dc-1fd90796636a",
   "metadata": {},
   "source": [
    "### Model application"
   ]
  },
  {
   "cell_type": "code",
   "execution_count": 8,
   "id": "69a7e12c-0611-4f6f-b384-6b6d2170f54a",
   "metadata": {},
   "outputs": [
    {
     "name": "stderr",
     "output_type": "stream",
     "text": [
      "2025-05-02 09:22:33,886 [INFO] Checkpoint Salesforce--Llama-xLAM-2-8b-fc-r suitable apps:\n",
      "[{'id': 'eb0aaad1-694f-41b6-958a-b974737635c4', 'name': 'Samba1 Llama3.1 Experts'}]\n"
     ]
    },
    {
     "data": {
      "text/plain": [
       "[{'id': 'eb0aaad1-694f-41b6-958a-b974737635c4',\n",
       "  'name': 'Samba1 Llama3.1 Experts'}]"
      ]
     },
     "execution_count": 8,
     "metadata": {},
     "output_type": "execute_result"
    }
   ],
   "source": [
    "suitable_apps = byoc.get_suitable_apps()[0]\n",
    "suitable_apps"
   ]
  },
  {
   "cell_type": "code",
   "execution_count": 9,
   "id": "62606785-194c-4d91-b67f-feae4193b604",
   "metadata": {},
   "outputs": [],
   "source": [
    "byoc.config[\"checkpoints\"][0][\"app_id\"] = suitable_apps[0][\"id\"]"
   ]
  },
  {
   "cell_type": "markdown",
   "id": "6b3d24fa-c10d-41e6-b517-aac2ec079a32",
   "metadata": {},
   "source": [
    "### Config summary"
   ]
  },
  {
   "cell_type": "code",
   "execution_count": 10,
   "id": "09059d23-4af6-4c6b-888f-845215aadfc2",
   "metadata": {},
   "outputs": [
    {
     "name": "stdout",
     "output_type": "stream",
     "text": [
      "{'checkpoints': [{'app_id': 'eb0aaad1-694f-41b6-958a-b974737635c4',\n",
      "                  'checkpoint_path': '/Users/varunk/models/models--Salesforce--Llama-xLAM-2-8b-fc-r/snapshots/d10ff9682648d264a364a61505af5c0e172895f8',\n",
      "                  'description': 'BYOC - Salesforce/Llama-xLAM-2-8b-fc-r',\n",
      "                  'model_arch': 'llama',\n",
      "                  'model_name': 'Salesforce--Llama-xLAM-2-8b-fc-r',\n",
      "                  'param_count': 8,\n",
      "                  'publisher': 'Salesforce',\n",
      "                  'seq_length': 131072,\n",
      "                  'vocab_size': 128256}]}\n"
     ]
    }
   ],
   "source": [
    "pprint.pprint(byoc.config)"
   ]
  },
  {
   "cell_type": "markdown",
   "id": "953ed5c8-efe2-4d0e-93e8-31259966b2c5",
   "metadata": {},
   "source": [
    "## 4. Upload checkpoint"
   ]
  },
  {
   "cell_type": "code",
   "execution_count": 11,
   "id": "fa3b7d02-e2b6-4f29-95b3-51cf52e70fe7",
   "metadata": {},
   "outputs": [
    {
     "name": "stderr",
     "output_type": "stream",
     "text": [
      "2025-05-02 09:22:36,226 [INFO] Model with name 'Salesforce--Llama-xLAM-2-8b-fc-r' not found\n",
      "2025-05-02 09:22:36,286 [INFO] App with name 'eb0aaad1-694f-41b6-958a-b974737635c4' found with id eb0aaad1-694f-41b6-958a-b974737635c4\n",
      "2025-05-02 09:22:36,288 [INFO] running snapi upload command:\n",
      " snapi import model create --model-name Salesforce--Llama-xLAM-2-8b-fc-r --app eb0aaad1-694f-41b6-958a-b974737635c4 --source-type LOCAL --source-path /Users/varunk/models/models--Salesforce--Llama-xLAM-2-8b-fc-r/snapshots/d10ff9682648d264a364a61505af5c0e172895f8 --model-arch llama --parameter-count 8b --sequence-length 131072 --vocab-size 128256 -ni --publisher Salesforce --description BYOC - Salesforce/Llama-xLAM-2-8b-fc-r --ignore-transformers-version\n",
      "This could take a while\n",
      "2025-05-02 10:16:21,179 [INFO] Model with name 'Salesforce--Llama-xLAM-2-8b-fc-r' found with id 53432eb3-5f7c-41da-94fe-d0273c6b223a\n",
      "2025-05-02 10:16:21,188 [INFO] Model checkpoint with name 'Salesforce--Llama-xLAM-2-8b-fc-r' created it with id 53432eb3-5f7c-41da-94fe-d0273c6b223a\n",
      "2025-05-02 10:16:21,189 [INFO] Checkpoint for model Salesforce--Llama-xLAM-2-8b-fc-r finished successfully with result 53432eb3-5f7c-41da-94fe-d0273c6b223a \n"
     ]
    }
   ],
   "source": [
    "results = byoc.upload_checkpoints()"
   ]
  },
  {
   "cell_type": "code",
   "execution_count": 12,
   "id": "d5b6903f-3095-4fad-a6dd-4e5c0570b972",
   "metadata": {},
   "outputs": [
    {
     "data": {
      "text/plain": [
       "[{'name': 'Salesforce--Llama-xLAM-2-8b-fc-r',\n",
       "  'id': '53432eb3-5f7c-41da-94fe-d0273c6b223a'}]"
      ]
     },
     "execution_count": 12,
     "metadata": {},
     "output_type": "execute_result"
    }
   ],
   "source": [
    "results"
   ]
  },
  {
   "cell_type": "markdown",
   "id": "8fc6bf4b-d975-494c-9888-f3bca574c23b",
   "metadata": {},
   "source": [
    "You can check the status of the checkpoints after the upload process"
   ]
  },
  {
   "cell_type": "code",
   "execution_count": 14,
   "id": "df2f7d64-bb83-4fbd-9bd2-0059ae4bf55d",
   "metadata": {},
   "outputs": [
    {
     "name": "stderr",
     "output_type": "stream",
     "text": [
      "2025-05-02 10:24:20,797 [INFO] model 53432eb3-5f7c-41da-94fe-d0273c6b223a status: \n",
      " {'model_id': '53432eb3-5f7c-41da-94fe-d0273c6b223a', 'status': 'Available', 'progress': 100, 'stage': 'convert', 'status_code': 200, 'headers': {'access-control-allow-headers': 'Accept, Content-Type, Content-Length, Accept-Encoding, Authorization, ResponseType, Access-Control-Allow-Origin', 'access-control-allow-methods': 'GET, POST, PATCH, DELETE', 'access-control-allow-origin': 'https://sjc3-e9.sambanova.net', 'content-security-policy': \"default-src 'self'\", 'content-type': 'application/json', 'permissions-policy': 'none', 'referrer-policy': 'no-referrer', 'strict-transport-security': 'max-age=31536000; includeSubDomains, max-age=31536000; includeSubDomains', 'x-content-type-options': 'nosniff', 'x-correlation-id': 'a3e64860-6b75-42a7-aed9-a2cec6d38abb', 'x-frame-options': 'DENY', 'date': 'Fri, 02 May 2025 17:24:20 GMT', 'x-envoy-upstream-service-time': '38', 'server': 'istio-envoy', 'content-encoding': 'gzip', 'vary': 'Accept-Encoding', 'transfer-encoding': 'chunked'}}\n"
     ]
    },
    {
     "ename": "TypeError",
     "evalue": "list indices must be integers or slices, not list",
     "output_type": "error",
     "traceback": [
      "\u001b[0;31m---------------------------------------------------------------------------\u001b[0m",
      "\u001b[0;31mTypeError\u001b[0m                                 Traceback (most recent call last)",
      "Cell \u001b[0;32mIn[14], line 2\u001b[0m\n\u001b[1;32m      1\u001b[0m status \u001b[38;5;241m=\u001b[39m byoc\u001b[38;5;241m.\u001b[39mget_checkpoints_status(results[\u001b[38;5;241m0\u001b[39m][\u001b[38;5;124m\"\u001b[39m\u001b[38;5;124mid\u001b[39m\u001b[38;5;124m\"\u001b[39m])\n\u001b[0;32m----> 2\u001b[0m \u001b[43mstatus\u001b[49m\u001b[43m[\u001b[49m\u001b[43m[\u001b[49m\u001b[38;5;124;43m\"\u001b[39;49m\u001b[38;5;124;43mstatus\u001b[39;49m\u001b[38;5;124;43m\"\u001b[39;49m\u001b[43m,\u001b[49m\u001b[43m \u001b[49m\u001b[38;5;124;43m\"\u001b[39;49m\u001b[38;5;124;43mprogress\u001b[39;49m\u001b[38;5;124;43m\"\u001b[39;49m\u001b[43m]\u001b[49m\u001b[43m]\u001b[49m\n",
      "\u001b[0;31mTypeError\u001b[0m: list indices must be integers or slices, not list"
     ]
    }
   ],
   "source": [
    "status = byoc.get_checkpoints_status(results[0][\"id\"])\n",
    "status[[\"status\", \"progress\"]]"
   ]
  },
  {
   "cell_type": "code",
   "execution_count": null,
   "id": "f5b1ddfd-6f94-494f-b1d9-1bdb1979dbc2",
   "metadata": {},
   "outputs": [],
   "source": []
  }
 ],
 "metadata": {
  "kernelspec": {
   "display_name": "py_3_11_autogen",
   "language": "python",
   "name": "py_3_11_autogen"
  },
  "language_info": {
   "codemirror_mode": {
    "name": "ipython",
    "version": 3
   },
   "file_extension": ".py",
   "mimetype": "text/x-python",
   "name": "python",
   "nbconvert_exporter": "python",
   "pygments_lexer": "ipython3",
   "version": "3.11.11"
  }
 },
 "nbformat": 4,
 "nbformat_minor": 5
}
